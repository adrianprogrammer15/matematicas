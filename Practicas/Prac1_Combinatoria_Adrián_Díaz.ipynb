{
  "nbformat": 4,
  "nbformat_minor": 0,
  "metadata": {
    "colab": {
      "provenance": [],
      "include_colab_link": true
    },
    "kernelspec": {
      "name": "python3",
      "display_name": "Python 3"
    },
    "language_info": {
      "name": "python"
    }
  },
  "cells": [
    {
      "cell_type": "markdown",
      "metadata": {
        "id": "view-in-github",
        "colab_type": "text"
      },
      "source": [
        "<a href=\"https://colab.research.google.com/github/adrianprogrammer15/matematicas/blob/main/Practicas/Prac1_Combinatoria_Adri%C3%A1n_D%C3%ADaz.ipynb\" target=\"_parent\"><img src=\"https://colab.research.google.com/assets/colab-badge.svg\" alt=\"Open In Colab\"/></a>"
      ]
    },
    {
      "cell_type": "markdown",
      "source": [
        "# Práctica 1. Combinatoria\n",
        "Resuelva los siguientes apartados de la práctica.  \n",
        "La práctica 1.1 se proporciona solucionada para que pueda servir como ejemplo.\n"
      ],
      "metadata": {
        "id": "VP-PLgSCPtPC"
      }
    },
    {
      "cell_type": "markdown",
      "source": [
        "## Práctica 1.1\n",
        "Cuatro amigos:\n",
        "* Antonio (A)\n",
        "* Begoña (B)\n",
        "* Cesar (C)\n",
        "* Diana (D)\n",
        "\n",
        "constituyen una asociación y tienen que asignar los siguientes cargos:\n",
        "* Presiente (1)\n",
        "* Vicepresidente (2)\n",
        "* Secretario (3)\n",
        "* Tesorero (4)\n",
        "\n",
        "Se pide:\n",
        "1. Escribiendo la solución en una celda de Markdown analice el caso indicando si se trata de variaciones, permutaciones o combinaciones, con o sin repetición o el caso que sea, y el motivo para clasificar el caso de esta forma.\n",
        "2. Utilizando fórmulas de $\\LaTeX$ calcule cuántos casos existen.\n",
        "3. Cree un programa en Python para calcule cuántos casos existen.\n",
        "4. Cree un programa en Python para imprimir todas las posibilidades y numérelas. Por ejemplo:\n",
        "    - 1 ABCD\n",
        "    - 2 ABDC\n",
        "    - 3 ACBD\n",
        "    - &#20; &#20; &#20; ... ... ..."
      ],
      "metadata": {
        "id": "6oyoxqfbQJDC"
      }
    },
    {
      "cell_type": "markdown",
      "source": [
        "### Solución 1.1\n",
        "* Estamos ante un caso de **permutaciones sin repetición** ya que:\n",
        " - El orden importa, no es lo mismo estar el nº1 que significa ser presidente que el nº 4 que corresponde al tesorero.\n",
        " - Intervienen todos. Son 4 amigos para 4 cargos, todos tienen cargo, lo que cambiar es el orden, esto es, el cargo que obtengan.\n",
        " - No se repiten elementos. Una persona no puede tener dos cargos simultaneamente.\n",
        "* Los casos que se obtienen con las permutaciones sin repetición son $P_{n}=n!$ que para este ejemplo son:\n",
        "\n",
        "$$P_{4}=4!=4 \\cdot 3 \\cdot 2 \\cdot 1 = 24$$"
      ],
      "metadata": {
        "id": "t5unIqR7jdZR"
      }
    },
    {
      "cell_type": "code",
      "source": [
        "import math\n",
        "p = math.factorial(4)\n",
        "print(\"Los casos son: \", p)\n",
        "print(\"Comprobación:  \", 4*3*2*1)"
      ],
      "metadata": {
        "id": "va3_l_-hmFS-"
      },
      "execution_count": null,
      "outputs": []
    },
    {
      "cell_type": "markdown",
      "source": [
        "#### Método 1\n",
        "Sin usar librería."
      ],
      "metadata": {
        "id": "kOM3pEAGnh8v"
      }
    },
    {
      "cell_type": "code",
      "source": [
        "lista = ['A', 'B', 'C', 'D']\n",
        "contador = 1\n",
        "\n",
        "for i in lista:\n",
        "    for j in lista:\n",
        "        for k in lista:\n",
        "            for l in lista:\n",
        "                if i != j and i != k and i != l and j != k and j != l and k != l:\n",
        "                    print(f\"{contador:2d} →  {i+j+k+l}\")\n",
        "                    contador += 1"
      ],
      "metadata": {
        "id": "5--ZpSoJncj3"
      },
      "execution_count": null,
      "outputs": []
    },
    {
      "cell_type": "markdown",
      "source": [
        "#### Método 2\n",
        "* Usamos la función `permutations` de la librería `itertools`.\n",
        "* Imprimimos todas las permutaciones de los elementos de una lista."
      ],
      "metadata": {
        "id": "2PoCD5GlnwS1"
      }
    },
    {
      "cell_type": "code",
      "source": [
        "from itertools import permutations\n",
        "\n",
        "perm = permutations(['A','B','C','D'])   # obtenemos todas las permutaciones de la lista \n",
        "\n",
        "for i in list(perm):                     # imprimimos todas las permutaciones \n",
        "    print (*i)                           # con el asterisco se muestran las listas sin corchetes ni comas"
      ],
      "metadata": {
        "id": "eKkB1gQnn6_P"
      },
      "execution_count": null,
      "outputs": []
    },
    {
      "cell_type": "markdown",
      "source": [
        "## Práctica 1.2\n",
        "Cuatro amigos:\n",
        "* Antonio (A)\n",
        "* Begoña (B)\n",
        "* Cesar (C)\n",
        "* Diana (D)\n",
        "\n",
        "constituyen una asociación y tienen que asignar los siguientes cargos:\n",
        "* Presiente (1)\n",
        "* Secretario (3)\n",
        "* Tesorero (4)\n",
        "\n",
        "Se pide:\n",
        "1. Escribiendo la solución en una celda de Markdown analice el caso indicando si se trata de variaciones, permutaciones o combinaciones, con o sin repetición o el caso que sea, y el motivo para clasificar el caso de esta forma.\n",
        "2. Utilizando fórmulas de $\\LaTeX$ calcule cuántos casos existen.\n",
        "3. Cree un programa en Python para calcule cuántos casos existen.\n",
        "4. Cree un programa en Python para imprimir todas las posibilidades y numérelas. Por ejemplo:\n",
        "    - 1 ABC\n",
        "    - 2 ABD\n",
        "    - 3 ACB\n",
        "    - &#20; &#20; &#20; ... ... ..."
      ],
      "metadata": {
        "id": "sxSuCpAFSBPJ"
      }
    },
    {
      "cell_type": "markdown",
      "source": [
        "### Solución 1.2  \n",
        "- Nos encontramos ante un caso de *variaciones sin repetición*, debido a que \n",
        "tenemos **4 elementos** (Antonio, Begoña, César y Diana) que tenemos que ordenar **de 3 en 3** en función de su rol (Presidente, Secretario y Tesorero)  \n",
        "- Quedando uno de estos elementos fuera de nuestro orden  $3×3$  \n",
        " - Teniendo en cuenta que su orden **Sí** importa (No es lo mismo que Diana sea presidenta o que sea secretaria)\n",
        "\n",
        "- ¿Cómo calculamos el número de casos posibles? Con la fórmula de variaciones sin repetición : \n",
        "\n",
        "\n",
        "$$V^r_n=\\frac{n!}{(n-r)!}=n \\cdot (n-1) \\cdot (n-2) \\cdots (n-r+1)$$    \n",
        "\n",
        "\n",
        "- Aplicando esta fórmula al caso propuesto:  \n",
        "$$V^r_n=\\frac{n!}{(n-r)!}=\\frac{4!}{(4-3)!}=\\frac{4!}{1!}=\\frac{4 \\cdot 3 \\cdot 2 \\cdot 1}{1}=4 \\cdot 3 \\cdot 2=24 $$ \n",
        "\n",
        "Teniendo en cuenta que :  \n",
        "A= Antonio, B= Begoña, C= César y D= Diana  \n",
        "La posición 1 constituye a Presidente, la 2 a Secretario y la 3 a Tesorero.  \n",
        "Se tiene:\n",
        "\n",
        "\n",
        "\n",
        "\n"
      ],
      "metadata": {
        "id": "9s2_zbMV2DZT"
      }
    },
    {
      "cell_type": "code",
      "source": [
        "import itertools\n",
        "it = itertools.permutations([\"A\",\"B\",\"C\",\"D\"],3)\n",
        "li = list(it)\n",
        "print(li)\n",
        "\n",
        "print()\n",
        "\n",
        "for i in range(len(li)):\n",
        "  print(f\"Variación {i+1:2d}: \", *li[i])"
      ],
      "metadata": {
        "id": "lS_M2YEf9me4"
      },
      "execution_count": null,
      "outputs": []
    },
    {
      "cell_type": "markdown",
      "source": [
        "## Práctica 1.3\n",
        "Invente un caso de **variaciones sin repetición**.\n",
        "Se pide contestar a los mismos puntos que el caso anterior."
      ],
      "metadata": {
        "id": "D0S1DjF4MKmz"
      }
    },
    {
      "cell_type": "markdown",
      "source": [
        "### Solución 1.3"
      ],
      "metadata": {
        "id": "AfyuPIASj_20"
      }
    },
    {
      "cell_type": "markdown",
      "source": [
        "Un alumno se ha creado una cuenta de GitHub y quiere crear una contraseña lo suficientemente segura. Le piden: \n",
        "- Que su contraseña sea de 4 cifras. \n",
        "- Utilice los números comprendidos entre el 1-7. \n",
        "- Que los números no se repitan \n",
        "\n",
        "El alumnno quiere conocer el número de contraseñas que puede crear, y por ende, cúales son.  \n",
        "Para conocer el número de contraseñas que se pueden formar, aplicamos los datos a la fórmula:\n",
        "\n",
        "$$V^r_n=\\frac{n!}{(n-r)!}=\\frac{7!}{(7-4)!}=\\frac{7!}{3!}=\\frac{7 \\cdot 6 \\cdot 5 \\cdot 4 \\cdot 3!}{3!}=7 \\cdot 6 \\cdot 5 \\cdot 4=840 $$  \n",
        "-  \n",
        "Las posibles combinaciones con los números del 1 al 7, para crear una contraseña que recoge 4 dígitos, son de 840, es decir, se pueden crear 840 contraseñas diferentes y sin repetir número.\n",
        "\n"
      ],
      "metadata": {
        "id": "Wffr6pF6A3F8"
      }
    },
    {
      "cell_type": "code",
      "source": [
        "import itertools\n",
        "it = itertools.permutations([1,2,3,4,5,6,7],4)\n",
        "li = list(it)\n",
        "print(li)\n",
        "\n",
        "print()\n",
        "\n",
        "for i in range(len(li)):\n",
        "  print(f\"Contraseña {i+1:3d}: \", *li[i])"
      ],
      "metadata": {
        "id": "R_uCOlAoFpDB"
      },
      "execution_count": null,
      "outputs": []
    },
    {
      "cell_type": "markdown",
      "source": [
        "## Práctica 1.4\n",
        "Invente un caso de **variaciones con repetición**.\n",
        "Se pide contestar a los mismos puntos que el caso anterior."
      ],
      "metadata": {
        "id": "gvlnqCaRMTua"
      }
    },
    {
      "cell_type": "markdown",
      "source": [
        "### Solución 1.4"
      ],
      "metadata": {
        "id": "HG5BhQnzXfoK"
      }
    },
    {
      "cell_type": "markdown",
      "source": [
        "Apoyándonos en el ejemplo anterior:  \n",
        "Vamos a ver el número de contraseñas posibles , pero pudiendo repetir dígito.  \n",
        "-Ahora la fórmula sería:  \n",
        "$$V^n_m=m^n$$  \n",
        "\n",
        "-  Aplicando los datos del ejercicio anterior, en el que teníamos que comprobar el número de contraseñas que se podían formar a partir de los números comprendidos del 1-7, siendo la contraseña de una extensión de 4 dígitos.  \n",
        "Se tiene:  \n",
        "$$V^n_m=m^n=7^4=2401$$   \n",
        "-  Vemos como el número de contraseña crece exponencialmente debido a que podemos repetir número\n",
        "\n",
        "\n",
        "\n",
        "\n",
        "\n",
        "\n"
      ],
      "metadata": {
        "id": "8hfQUBx7cvKu"
      }
    },
    {
      "cell_type": "code",
      "source": [
        "import itertools\n",
        "\n",
        "def variaciones_con_repeticion(n,seq):\n",
        "  contador = 0\n",
        "  for p in itertools.product(seq,repeat=n):\n",
        "    contador += 1\n",
        "    print(\"Contraseña\",contador,\": \", \" \".join(p))\n",
        "  \n",
        "secuencia = str(\"1234567\")\n",
        "m = len(secuencia)\n",
        "n = 4\n",
        "variaciones_con_repeticion(n, secuencia)\n",
        "\n",
        "print(f\"El número de contraseñas que se pueden obtener a partir de {m} dígitos, tomando números de {n} en {n} ,es de {m**n}\")\n"
      ],
      "metadata": {
        "id": "DUlqnETTYVvH"
      },
      "execution_count": null,
      "outputs": []
    },
    {
      "cell_type": "markdown",
      "source": [
        "## Práctica 1.5\n",
        "Invente un caso de **permutaciones sin repetición**.\n",
        "Se pide contestar a los mismos puntos que el caso anterior."
      ],
      "metadata": {
        "id": "0OCAC-I-G5F6"
      }
    },
    {
      "cell_type": "markdown",
      "source": [
        "### Solución 1.5"
      ],
      "metadata": {
        "id": "8GxENM13XJpB"
      }
    },
    {
      "cell_type": "markdown",
      "source": [
        "Mi grupo de amigos y yo conformamos un grupo de 5 personas. Decidimos ir al cine.  \n",
        "Entramos en la sala y nos sentamos en una fila. ¿De cuántas maneras distintas nos podríamos sentar?:  \n",
        "- El orden **SÍ** importa\n",
        "- Intervienen todos los elementos, es decir , todos nos sentamos en la fila\n",
        "- No se repiten ( una persona no puede sentarse en el primer sitio y en el segundo)\n",
        "\n",
        "Utilizando la siguiente fórmula obtendremos el número de casos en los que mi grupo de 7 personas podemos sentarnos en la fila del cine:  \n",
        "\n",
        "\n",
        "$$P_m= m!$$  \n",
        "Aplicando la información a la fórmula:  \n",
        "$$P_m=5!= 5 \\cdot 4 \\cdot 3 \\cdot 2 \\cdot 1 = 120$$  \n",
        "Siendo el primer amigo A, el segundo B...etc:\n"
      ],
      "metadata": {
        "id": "3APue8sJv5a6"
      }
    },
    {
      "cell_type": "code",
      "source": [
        "lista = [\"A\",\"B\",\"C\",\"D\",\"E\"]\n",
        "contador = 1\n",
        "\n",
        "for i in lista:\n",
        "    for j in lista:\n",
        "      for k in lista:\n",
        "        for l in lista:\n",
        "          for m in lista:\n",
        "            if i != j and i != k and i != l and i != m and j != k and j != l and j != m and k != l and k != m and l != m:\n",
        "              print(f\"{contador:3d}:   {i+j+k+l+m}\")\n",
        "              contador += 1\n",
        "\n",
        "\n"
      ],
      "metadata": {
        "id": "1OFi88aN0PD8"
      },
      "execution_count": null,
      "outputs": []
    },
    {
      "cell_type": "markdown",
      "source": [
        "## Práctica 1.6\n",
        "Invente un caso de **permutaciones con repetición**.\n",
        "Se pide contestar a los mismos puntos que el caso anterior."
      ],
      "metadata": {
        "id": "YWUXIczqLj3W"
      }
    },
    {
      "cell_type": "markdown",
      "source": [
        "### Solución 1.6\n",
        "Tenemos la palabra BALADA y queremos saber cuantas nuevas palabras se pueden formar a partir de sus letras, pudiéndose repetir y no siendo necesario que estas tengan sentido. \n",
        "La fórmula para calcular el número de nuevas palabras es:  \n",
        "$$V^k_n=\\frac {n!} {k_1 ! \\cdot k_2 ! ...\\cdot k_r !}$$  \n",
        "- Número de veces que se repite la letra B = 1\n",
        "- Número de veces que se repite la letra A = 3\n",
        "- Número de veces que se repite la letra D = 1\n",
        "- Número de veces que se repite la letra L = 1\n",
        "- Número total de elementos: n = 1+3+1+1  ➜  n = 6  \n",
        "- Con los siguientes datos:  \n",
        "$$V^k_n=\\frac {6!} {1 ! \\cdot 1 ! \\cdot 1 ! \\cdot 3 !} = \\frac {720} {6} = 120   $$  \n",
        "\n",
        "\n",
        "\n"
      ],
      "metadata": {
        "id": "siAxWVVekHs6"
      }
    },
    {
      "cell_type": "code",
      "source": [
        "from itertools import permutations\n",
        "\n",
        "p = permutations(\"BALADA\")\n",
        "lista = [\"\".join(i) for i in p]\n",
        "conjunto = set(lista)\n",
        "ordenada = list(conjunto)\n",
        "ordenada.sort()\n",
        "print(ordenada)\n",
        "print(f\"El número de palabras obtenido es: {len(ordenada)}.\")"
      ],
      "metadata": {
        "id": "bXb_kr4HVbr1"
      },
      "execution_count": null,
      "outputs": []
    },
    {
      "cell_type": "markdown",
      "source": [
        "### Práctica 1.7\n",
        "Invente un caso de **combinaciones sin repetición**.\n",
        "Se pide contestar a los mismos puntos que el caso anterior."
      ],
      "metadata": {
        "id": "opCrIDtJGg1R"
      }
    },
    {
      "cell_type": "markdown",
      "source": [
        "### Solución 1.7\n",
        "En una empresa que consta de 10 empleados se quiere organizar un comité formado por 2 empleados. Nos preguntamos cuántas formas distintas de organizar el comité se pueden obtener.  \n",
        "Para conocer el número de comités que se pueden formar aplicamos la siguiente fórmula:  \n",
        "$$ C^n_m = C_{m,n} = \\binom{m}{n} = \\frac{m!}{n!(m-n)!} \\quad m \\geq n$$  \n",
        "En este caso tomamos 10 empleados de 2 en 2 , es decir, 10 elementos (*m*) de *n* en *n*:  \n",
        "$$ C^n_m = C_{m,n} = \\binom{m}{n} =\\frac{10!}{2!(10-2)!}= \\frac {10 \\cdot 9 \\cdot 8!} {2! \\cdot 8!}=45  $$  \n",
        "- Los empleados son: Alberto , Bea , Carmen , Daniel , Ester , Fran , Gabriel , Helena , Ingrid y Jaime.\n"
      ],
      "metadata": {
        "id": "Zs46BsRnkJcl"
      }
    },
    {
      "cell_type": "code",
      "source": [
        "from math import factorial\n",
        "print(f\"Los comités que se obtienen son {int(factorial(10)/factorial(2)/factorial(10-2))}\")\n",
        "\n",
        "from itertools import combinations \n",
        "c = combinations(\"ABCDEFGHIJ\",2)\n",
        "for i in c:\n",
        "    print(\"\".join(i), end =\"-\")"
      ],
      "metadata": {
        "id": "X7qxZn0ocS7r",
        "colab": {
          "base_uri": "https://localhost:8080/"
        },
        "outputId": "04d529c4-5529-4453-c104-d884cb40103b"
      },
      "execution_count": 61,
      "outputs": [
        {
          "output_type": "stream",
          "name": "stdout",
          "text": [
            "Los comités que se obtienen son 45\n",
            "AB-AC-AD-AE-AF-AG-AH-AI-AJ-BC-BD-BE-BF-BG-BH-BI-BJ-CD-CE-CF-CG-CH-CI-CJ-DE-DF-DG-DH-DI-DJ-EF-EG-EH-EI-EJ-FG-FH-FI-FJ-GH-GI-GJ-HI-HJ-IJ-"
          ]
        }
      ]
    },
    {
      "cell_type": "markdown",
      "source": [
        "## Práctica 1.8\n",
        "Invente un caso de **combinaciones con repetición**.\n",
        "Se pide contestar a los mismos puntos que el caso anterior."
      ],
      "metadata": {
        "id": "-7Y5WWlDGzAR"
      }
    },
    {
      "cell_type": "markdown",
      "source": [
        "### Solución 1.8  \n",
        "En una heladería se pueden elegir 2 sabores para un helado , pudiendo repetir sabor.  \n",
        "Teniendo para elegir helado de Chocolate, Almendra , Piña , Fresa y Mango.  \n",
        "- \n",
        "¿Cuántos helados de sabores diferentes podemos elegir?  \n",
        "\n",
        "\n",
        "$$CR^n_m = CR_{n,m} = C_{n,m+n-1} = \\binom{m+n-1}{n} = \\frac{(m+n-1)!}{n! \\cdot (m-1)!} $$  \n",
        "- Con esta fórmula podremos averiguar cuántos helados disitintos podremos pedir teniendo en cuenta la información anterior  \n",
        "$$CR^n_m  = \\frac{(m+n-1)!}{n! \\cdot (m-1)!} = \\frac {(5+2-1)!} {2! \\cdot (5-1)!} =  15$$   \n",
        "- El número de helados que podemos pedir es 15 \n",
        "\n",
        "\n",
        "\n"
      ],
      "metadata": {
        "id": "ReRULqd8kL1F"
      }
    },
    {
      "cell_type": "code",
      "source": [
        "from itertools import combinations_with_replacement \n",
        "from math import factorial\n",
        "\n",
        "c = combinations_with_replacement(\"CAPFM\", 2)\n",
        "for i in c:\n",
        "  print(*i)\n",
        "m = 5\n",
        "n = 2\n",
        "print(f\"Los helados que se pueden pedir son {int(factorial(m+n-1)/factorial(n)/factorial(m-1))}\")"
      ],
      "metadata": {
        "id": "xAHed5tnkucm",
        "colab": {
          "base_uri": "https://localhost:8080/"
        },
        "outputId": "27eb2f30-3de0-478e-e962-d00b3aa7ae90"
      },
      "execution_count": 62,
      "outputs": [
        {
          "output_type": "stream",
          "name": "stdout",
          "text": [
            "C C\n",
            "C A\n",
            "C P\n",
            "C F\n",
            "C M\n",
            "A A\n",
            "A P\n",
            "A F\n",
            "A M\n",
            "P P\n",
            "P F\n",
            "P M\n",
            "F F\n",
            "F M\n",
            "M M\n",
            "Los helados que se pueden pedir son 15\n"
          ]
        }
      ]
    },
    {
      "cell_type": "markdown",
      "source": [
        "## Práctica 1.9\n",
        "En el gobierno se crea una unidad de crisis formada por el presidente (P) y 4 ministros (A,B,C,D) que se reúnen sentados alrededor de una **mesa redonda**.\n",
        "\n",
        "Se pide:  \n",
        "1. Calcule de cuantas formas pueden llegar a sentarse si el ministro de defensa (D) siempre ha de estar al lado del presidente (P). Escriba la solución en una celda de Markdown utilizando fórmulas en $\\LaTeX$  explicando el caso.\n",
        "2. Cree un programa en Python para calcular el número de casos que se pueden dar al sentarse en la mesa.\n",
        "3. Cree un programa en Python para imprimir todas las posibilidades y numérelas. Por ejemplo:\n",
        "    - 1 PDABC\n",
        "    - 2 PDACB\n",
        "    - 3 PDBCD\n",
        "    - 4 PDBDC\n",
        "    - 5 PDCAB\n",
        "    - 6 PDCBA\n",
        "    - 7 DPABC\n",
        "    - 8 DPACB\n",
        "    - &#20; &#20; &#20; ... ... ...\n"
      ],
      "metadata": {
        "id": "SOzxh_YgHnDG"
      }
    },
    {
      "cell_type": "markdown",
      "source": [
        "\n",
        "### Solución 1.9"
      ],
      "metadata": {
        "id": "F8kV034OkQZX"
      }
    },
    {
      "cell_type": "markdown",
      "source": [
        "En este caso de permutación circular tenemos 5 elementos: P A B C D  \n",
        "Tenemos que tener en cuenta que los elemtos P y D deben ir juntos, teniedo las opciones de situarlos : PD o DP. Los demás ministros se permutarán de manera normal.  \n",
        "La fórmula para hallar los casos totales de este ejercicio es:  \n",
        "$$PC_N=( n -1)!$$  \n",
        "En este caso *n* es el número de elementos, teniendo en cuenta que el Presidente y el Ministro de defensa actúan como uno ya que tienen que sentarse juntos, *n* = 4  \n",
        "Aplicando n en la fórmula:  \n",
        "$$PC_n=( n -1)!=(4-1)!=3!=6$$   \n",
        "Ahora hay que multiplicar este resultado por 2, debido aque estos seis casos hay que tenerlos en cuenta para PD y para DP  \n",
        "El número de casos total sería 12\n",
        "\n"
      ],
      "metadata": {
        "id": "y63FOQocvqjK"
      }
    },
    {
      "cell_type": "code",
      "source": [
        "from itertools import permutations \n",
        "\n",
        "p = list(permutations('ABC'))   \n",
        "\n",
        "\n",
        "texto = ''   \n",
        "contador = 0\n",
        "for v in p:\n",
        "\n",
        "    texto += 'PD' + ''.join(v) + ','   \n",
        "\n",
        "for v in p:\n",
        "\n",
        "    texto += 'DP' + ''.join(v) + ','   \n",
        "\n",
        "\n",
        "print(texto [:-1])  \n",
        "n = 4\n",
        "print(f\"Los casos son {int(factorial(n-1))*2}\")\n",
        "\n",
        "\n"
      ],
      "metadata": {
        "colab": {
          "base_uri": "https://localhost:8080/"
        },
        "id": "7FVVJCVGvrJh",
        "outputId": "5fe06521-2bb0-4fb5-d9d9-1efb2cf78b12"
      },
      "execution_count": 63,
      "outputs": [
        {
          "output_type": "stream",
          "name": "stdout",
          "text": [
            "PDABC,PDACB,PDBAC,PDBCA,PDCAB,PDCBA,DPABC,DPACB,DPBAC,DPBCA,DPCAB,DPCBA\n",
            "Los casos son 12\n"
          ]
        }
      ]
    },
    {
      "cell_type": "markdown",
      "source": [
        "## Práctica 1.10\n",
        "* Realice una breve explicación teórica del **triángulo de Pascal**, o también llamado triángulo de Tartaglia, y de las fórmulas de los números combinatorios.\n",
        "* Cree un programa en Python para hacer el triángulo de Pascal."
      ],
      "metadata": {
        "id": "eiHdMOP-MkrZ"
      }
    },
    {
      "cell_type": "markdown",
      "source": [
        "### Solución 1.10"
      ],
      "metadata": {
        "id": "j0UT2579kTSM"
      }
    },
    {
      "cell_type": "markdown",
      "source": [
        "El **Triángulo de Pascal** es un esquema de forma triangular de números cuyo vértice comieza con el número 1 que corresponde a la letra *a* $$(a+b)^0=1$$  \n",
        "\n",
        "-  En el segundo renglón hay dos números uno que corresponderán a los coeficientes de *a*  y *b*  respectivamente. La fila siguiente se obtiene sumando los dos números inmediatos a él en la fila precedente y luego se le agrega un uno a cada extremo de la fila.    \n",
        "\n",
        "-  Más tarde, se efectúa una relación entre los números del triángulo de Pascal y la suma de las potencias de *a* y *b* de forma que los coeficientes se asignan en el mismo orden en que aparecen.  \n",
        "La fórmula que sostiene este esquema es la del Binomio de Newton  \n",
        "$$(a+b)^n$$\n",
        "\n"
      ],
      "metadata": {
        "id": "qPgmURfd6EOc"
      }
    },
    {
      "cell_type": "code",
      "source": [
        "num = int(input(\"Introduce el número de filas:\"))\n",
        "  \n",
        "for n in range(num):\n",
        "    print(' '*(num-n), end='')\n",
        "\n",
        "    print(' '.join(map(str, str(11**n))))\n"
      ],
      "metadata": {
        "id": "MzVlLSfF47MM",
        "colab": {
          "base_uri": "https://localhost:8080/"
        },
        "outputId": "eef7f704-f716-44e3-dca8-4d021b8243f4"
      },
      "execution_count": 1,
      "outputs": [
        {
          "output_type": "stream",
          "name": "stdout",
          "text": [
            "Introduce el número de filas:6\n",
            "      1\n",
            "     1 1\n",
            "    1 2 1\n",
            "   1 3 3 1\n",
            "  1 4 6 4 1\n",
            " 1 6 1 0 5 1\n"
          ]
        }
      ]
    }
  ]
}