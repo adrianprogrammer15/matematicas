{
  "nbformat": 4,
  "nbformat_minor": 0,
  "metadata": {
    "colab": {
      "provenance": [],
      "include_colab_link": true
    },
    "kernelspec": {
      "name": "python3",
      "display_name": "Python 3"
    },
    "language_info": {
      "name": "python"
    }
  },
  "cells": [
    {
      "cell_type": "markdown",
      "metadata": {
        "id": "view-in-github",
        "colab_type": "text"
      },
      "source": [
        "<a href=\"https://colab.research.google.com/github/adrianprogrammer15/matematicas/blob/main/Apuntes%202.ipynb\" target=\"_parent\"><img src=\"https://colab.research.google.com/assets/colab-badge.svg\" alt=\"Open In Colab\"/></a>"
      ]
    },
    {
      "cell_type": "markdown",
      "source": [
        "# Listas\n",
        "* Las listas son arrays o vectores.\n",
        "* El primer elemento de una lista tiene INDEX = 0\n",
        "* Son:\n",
        " - ordenadas\n",
        " - mutables → puede cambiar su valor"
      ],
      "metadata": {
        "id": "gWBLv0EGMG_L"
      }
    },
    {
      "cell_type": "code",
      "source": [
        "lista = [1, 2, 3]\n",
        "print(lista)\n",
        "print(type(lista))"
      ],
      "metadata": {
        "id": "qQXt-7WRZwUO"
      },
      "execution_count": null,
      "outputs": []
    },
    {
      "cell_type": "code",
      "source": [
        "ciudades =[\"Roma\", \"Londres\", \"París\", \"Madrid\", \"Berlín\"]\n",
        "ciudades"
      ],
      "metadata": {
        "id": "RcYLZzt8MfVP"
      },
      "execution_count": null,
      "outputs": []
    },
    {
      "cell_type": "code",
      "source": [
        "ciudades[0]"
      ],
      "metadata": {
        "id": "rmTiq2q4MzoR"
      },
      "execution_count": null,
      "outputs": []
    },
    {
      "cell_type": "code",
      "source": [
        "ciudades[1]"
      ],
      "metadata": {
        "id": "8mzZeKalM42z"
      },
      "execution_count": null,
      "outputs": []
    },
    {
      "cell_type": "code",
      "source": [
        "ciudades[4]"
      ],
      "metadata": {
        "id": "8UlCFDw3M7Pw"
      },
      "execution_count": null,
      "outputs": []
    },
    {
      "cell_type": "code",
      "source": [
        "ciudades[-1]"
      ],
      "metadata": {
        "id": "jCz34uufM_IK"
      },
      "execution_count": null,
      "outputs": []
    },
    {
      "cell_type": "markdown",
      "source": [
        "## Slicing\n",
        "* Rebanadas\n",
        "* lista[inicio:final]"
      ],
      "metadata": {
        "id": "4fc3-uSgNmNi"
      }
    },
    {
      "cell_type": "code",
      "source": [
        "ciudades[0:3]   # el index = 3 no se incluye en el resultado "
      ],
      "metadata": {
        "id": "1UMAW4czNzUu"
      },
      "execution_count": null,
      "outputs": []
    },
    {
      "cell_type": "code",
      "source": [
        "ciudades[:3]   # si no se indica el inicio se supone que es cero"
      ],
      "metadata": {
        "id": "iiq0d-uvONOe"
      },
      "execution_count": null,
      "outputs": []
    },
    {
      "cell_type": "code",
      "source": [
        "ciudades[2:]   # si no se indica el final se supone que es hasta el final de la lista"
      ],
      "metadata": {
        "id": "1O49HlriOWln"
      },
      "execution_count": null,
      "outputs": []
    },
    {
      "cell_type": "code",
      "source": [
        "ciudades[:]   # toda las lista"
      ],
      "metadata": {
        "id": "u6X_Gfb5Ofdf"
      },
      "execution_count": null,
      "outputs": []
    },
    {
      "cell_type": "markdown",
      "source": [
        "## Operaciones y métodos con listas"
      ],
      "metadata": {
        "id": "8G0A1qr3PAtd"
      }
    },
    {
      "cell_type": "code",
      "source": [
        "ciudades.append(\"Amsterdam\")   # añade un elemento al final\n",
        "ciudades"
      ],
      "metadata": {
        "id": "d_XZ27fZPEPA"
      },
      "execution_count": null,
      "outputs": []
    },
    {
      "cell_type": "code",
      "source": [
        "ciudades.insert(1, \"Lisboa\")   # añadimos el nuevo elemento en la posición indicada\n",
        "ciudades"
      ],
      "metadata": {
        "id": "WKG4OhH8PkcY"
      },
      "execution_count": null,
      "outputs": []
    },
    {
      "cell_type": "code",
      "source": [
        "urbes = [\"NY\", \"Tokyo\", ]\n",
        "ciudades + urbes   # concatenar listas"
      ],
      "metadata": {
        "id": "6eWioBpoQUpE"
      },
      "execution_count": null,
      "outputs": []
    },
    {
      "cell_type": "code",
      "source": [
        "anida = [ciudades, urbes]   # las listas anidadas son listas de listas\n",
        "anida"
      ],
      "metadata": {
        "id": "fRleKp66RBib"
      },
      "execution_count": null,
      "outputs": []
    },
    {
      "cell_type": "markdown",
      "source": [
        "### Eliminar elementos"
      ],
      "metadata": {
        "id": "L2eb1FBeR3gY"
      }
    },
    {
      "cell_type": "code",
      "source": [
        "ciudades = ['Roma', 'Lisboa', 'Londres', 'París', 'Madrid', 'Berlín', 'Amsterdam']\n",
        "print(ciudades)\n",
        "ciudades.pop()   # pop elimina el último elemento de la lista\n",
        "ciudades"
      ],
      "metadata": {
        "id": "UH47r7WBRZp1"
      },
      "execution_count": null,
      "outputs": []
    },
    {
      "cell_type": "code",
      "source": [
        "ciudades.pop(0)   # elimina el elemento indicado por su index"
      ],
      "metadata": {
        "id": "Y20osipLSwad"
      },
      "execution_count": null,
      "outputs": []
    },
    {
      "cell_type": "code",
      "source": [
        "ciudades"
      ],
      "metadata": {
        "id": "z-MSzZfKS_-D"
      },
      "execution_count": null,
      "outputs": []
    },
    {
      "cell_type": "code",
      "source": [
        "ciudades.remove(\"Lisboa\")   # elimina el elemento indicado\n",
        "ciudades"
      ],
      "metadata": {
        "id": "pUyLF-xMR_8F"
      },
      "execution_count": null,
      "outputs": []
    },
    {
      "cell_type": "markdown",
      "source": [
        "# Ordenar una lista"
      ],
      "metadata": {
        "id": "Aw_e_PNNTq55"
      }
    },
    {
      "cell_type": "code",
      "source": [
        "ciudades.sort()   # ordena alfabéticamente\n",
        "ciudades"
      ],
      "metadata": {
        "id": "nkrSPlXBTeNh"
      },
      "execution_count": null,
      "outputs": []
    },
    {
      "cell_type": "code",
      "source": [
        "numeros = [10, 4, 7, 2, 1, 6, 9]\n",
        "numeros"
      ],
      "metadata": {
        "id": "naYs036ATzY8"
      },
      "execution_count": null,
      "outputs": []
    },
    {
      "cell_type": "code",
      "source": [
        "numeros.sort()\n",
        "numeros"
      ],
      "metadata": {
        "id": "UanK8oO5T-gY"
      },
      "execution_count": null,
      "outputs": []
    },
    {
      "cell_type": "code",
      "source": [
        "numeros.sort(reverse = True)\n",
        "numeros"
      ],
      "metadata": {
        "id": "79MshMtTUEBS"
      },
      "execution_count": null,
      "outputs": []
    },
    {
      "cell_type": "markdown",
      "source": [
        "### Cambiar valores de una lista"
      ],
      "metadata": {
        "id": "gmDUbvl7UVQs"
      }
    },
    {
      "cell_type": "code",
      "source": [
        "print(numeros)\n",
        "numeros[0] = 100\n",
        "numeros"
      ],
      "metadata": {
        "id": "j_wxbKFKUaZr"
      },
      "execution_count": null,
      "outputs": []
    },
    {
      "cell_type": "markdown",
      "source": [
        "### Copiar una lista"
      ],
      "metadata": {
        "id": "dgMVq-XHUn9d"
      }
    },
    {
      "cell_type": "code",
      "source": [
        "candidatos = ciudades.copy()   # usando copy\n",
        "candidatos"
      ],
      "metadata": {
        "id": "l1MIb1sKUrpa"
      },
      "execution_count": null,
      "outputs": []
    },
    {
      "cell_type": "code",
      "source": [
        "sedes = ciudades[:]   # usando slicing\n",
        "sedes"
      ],
      "metadata": {
        "id": "Mhk5j5fMU--1"
      },
      "execution_count": null,
      "outputs": []
    },
    {
      "cell_type": "markdown",
      "source": [
        "#### Copia incorrecta de una lista\n",
        "* Este método no se debe usar ya que en realidad no se está haciendo una copia de una lista sino que estamos asignando dos nombres a una misma lista ya que ambos ocupan la misma dirección de memoria.\n",
        "* El gran inconveniente de este método es que si luego cambiamos un elemento en una lista también se cambiará en la otra ya que en realidad se trata de la misma lista.\n"
      ],
      "metadata": {
        "id": "GrOUcEvaVZQS"
      }
    },
    {
      "cell_type": "code",
      "source": [
        "Julia = [\"Rojo\", \"Verde\", \"Azul\"]   # colores favoritos de Julia\n",
        "print(\"Colores favoritos de Julia:\", Julia)\n",
        "\n",
        "Pablo = Julia   # método incorrecto de hacer una copia de listas\n",
        "\n",
        "print(\"Colores favoritos de Pablo:\", Pablo)"
      ],
      "metadata": {
        "id": "WyXlTjohV4bV"
      },
      "execution_count": null,
      "outputs": []
    },
    {
      "cell_type": "code",
      "source": [
        "Julia[0] = \"Rosa\"   # Julia cambia de opinión, ahora no le gusta el Rojo sino el Rosa\n",
        "print(\"Colores favoritos de Julia:\", Julia)\n",
        "print(\"Colores favoritos de Pablo:\", Pablo)   # También ha cambiado el color favorito para Pablo"
      ],
      "metadata": {
        "id": "3Klii3SkWfLC"
      },
      "execution_count": null,
      "outputs": []
    },
    {
      "cell_type": "code",
      "source": [
        "# vemos que ambas listas no son independientes, al hacer la copia se trata de la misma lista\n",
        "print(id(Julia))   # vemos que el id de ambas listas apunta a la misma dirección de memoria\n",
        "print(id(Pablo))   # en realidad se trata de la misma lista"
      ],
      "metadata": {
        "id": "qkLTpb_IYR_K"
      },
      "execution_count": null,
      "outputs": []
    },
    {
      "cell_type": "markdown",
      "source": [
        "# Listas\n",
        "* Las listas son arrays o vectores.\n",
        "* El primer elemento de una lista tiene INDEX = 0\n",
        "* Son:\n",
        " - ordenadas\n",
        " - mutables → puede cambiar su valor"
      ],
      "metadata": {
        "id": "J45aj5ErYoYe"
      }
    },
    {
      "cell_type": "code",
      "source": [
        "lista = [1, 2, 3]\n",
        "print(lista)\n",
        "print(type(lista))"
      ],
      "metadata": {
        "id": "7kLwqgTYYoYf"
      },
      "execution_count": null,
      "outputs": []
    },
    {
      "cell_type": "code",
      "source": [
        "ciudades =[\"Roma\", \"Londres\", \"París\", \"Madrid\", \"Berlín\"]\n",
        "ciudades"
      ],
      "metadata": {
        "id": "zj3ZI-mLYoYg"
      },
      "execution_count": null,
      "outputs": []
    },
    {
      "cell_type": "code",
      "source": [
        "ciudades[0]"
      ],
      "metadata": {
        "id": "HWze_oLMYoYg"
      },
      "execution_count": null,
      "outputs": []
    },
    {
      "cell_type": "code",
      "source": [
        "ciudades[1]"
      ],
      "metadata": {
        "id": "OaxK3D-fYoYh"
      },
      "execution_count": null,
      "outputs": []
    },
    {
      "cell_type": "code",
      "source": [
        "ciudades[4]"
      ],
      "metadata": {
        "id": "3ow1zOf1YoYh"
      },
      "execution_count": null,
      "outputs": []
    },
    {
      "cell_type": "code",
      "source": [
        "ciudades[-1]"
      ],
      "metadata": {
        "id": "mcdSTH0UYoYh"
      },
      "execution_count": null,
      "outputs": []
    },
    {
      "cell_type": "markdown",
      "source": [
        "## Slicing\n",
        "* Rebanadas\n",
        "* lista[inicio:final]"
      ],
      "metadata": {
        "id": "LZfISXm_YoYi"
      }
    },
    {
      "cell_type": "code",
      "source": [
        "ciudades[0:3]   # el index = 3 no se incluye en el resultado "
      ],
      "metadata": {
        "id": "BmNoPD21YoYj"
      },
      "execution_count": null,
      "outputs": []
    },
    {
      "cell_type": "code",
      "source": [
        "ciudades[:3]   # si no se indica el inicio se supone que es cero"
      ],
      "metadata": {
        "id": "ubs3qoUGYoYk"
      },
      "execution_count": null,
      "outputs": []
    },
    {
      "cell_type": "code",
      "source": [
        "ciudades[2:]   # si no se indica el final se supone que es hasta el final de la lista"
      ],
      "metadata": {
        "id": "SXMCRHiXYoYl"
      },
      "execution_count": null,
      "outputs": []
    },
    {
      "cell_type": "code",
      "source": [
        "ciudades[:]   # toda las lista"
      ],
      "metadata": {
        "id": "-YodDPTNYoYl"
      },
      "execution_count": null,
      "outputs": []
    },
    {
      "cell_type": "markdown",
      "source": [
        "## Operaciones y métodos con listas"
      ],
      "metadata": {
        "id": "522WSuLBYoYl"
      }
    },
    {
      "cell_type": "code",
      "source": [
        "ciudades.append(\"Amsterdam\")   # añade un elemento al final\n",
        "ciudades"
      ],
      "metadata": {
        "id": "QcjVxzjaYoYm"
      },
      "execution_count": null,
      "outputs": []
    },
    {
      "cell_type": "code",
      "source": [
        "ciudades.insert(1, \"Lisboa\")   # añadimos el nuevo elemento en la posición indicada\n",
        "ciudades"
      ],
      "metadata": {
        "id": "ok3D3TJJYoYn"
      },
      "execution_count": null,
      "outputs": []
    },
    {
      "cell_type": "code",
      "source": [
        "urbes = [\"NY\", \"Tokyo\", ]\n",
        "ciudades + urbes   # concatenar listas"
      ],
      "metadata": {
        "id": "CMcjV2xZYoYo"
      },
      "execution_count": null,
      "outputs": []
    },
    {
      "cell_type": "code",
      "source": [
        "anida = [ciudades, urbes]   # las listas anidadas son listas de listas\n",
        "anida"
      ],
      "metadata": {
        "id": "QPi6E1h-YoYp"
      },
      "execution_count": null,
      "outputs": []
    },
    {
      "cell_type": "markdown",
      "source": [
        "### Eliminar elementos"
      ],
      "metadata": {
        "id": "SCfLqmhAYoYp"
      }
    },
    {
      "cell_type": "code",
      "source": [
        "ciudades = ['Roma', 'Lisboa', 'Londres', 'París', 'Madrid', 'Berlín', 'Amsterdam']\n",
        "print(ciudades)\n",
        "ciudades.pop()   # pop elimina el último elemento de la lista\n",
        "ciudades"
      ],
      "metadata": {
        "id": "kyMYKEf3YoYq"
      },
      "execution_count": null,
      "outputs": []
    },
    {
      "cell_type": "code",
      "source": [
        "ciudades.pop(0)   # elimina el elemento indicado por su index"
      ],
      "metadata": {
        "id": "dyUsCxqdYoYq"
      },
      "execution_count": null,
      "outputs": []
    },
    {
      "cell_type": "code",
      "source": [
        "ciudades"
      ],
      "metadata": {
        "id": "mB7VC8aNYoYr"
      },
      "execution_count": null,
      "outputs": []
    },
    {
      "cell_type": "code",
      "source": [
        "ciudades.remove(\"Lisboa\")   # elimina el elemento indicado\n",
        "ciudades"
      ],
      "metadata": {
        "id": "dTBy6d3kYoYs"
      },
      "execution_count": null,
      "outputs": []
    },
    {
      "cell_type": "markdown",
      "source": [
        "# Ordenar una lista"
      ],
      "metadata": {
        "id": "drTv612tYoYs"
      }
    },
    {
      "cell_type": "code",
      "source": [
        "ciudades.sort()   # ordena alfabéticamente\n",
        "ciudades"
      ],
      "metadata": {
        "id": "Z16_y0LiYoYt"
      },
      "execution_count": null,
      "outputs": []
    },
    {
      "cell_type": "code",
      "source": [
        "numeros = [10, 4, 7, 2, 1, 6, 9]\n",
        "numeros"
      ],
      "metadata": {
        "id": "ORQZtksfYoYt"
      },
      "execution_count": null,
      "outputs": []
    },
    {
      "cell_type": "code",
      "source": [
        "numeros.sort()\n",
        "numeros"
      ],
      "metadata": {
        "id": "B2Fzt1-OYoYu"
      },
      "execution_count": null,
      "outputs": []
    },
    {
      "cell_type": "code",
      "source": [
        "numeros.sort(reverse = True)\n",
        "numeros"
      ],
      "metadata": {
        "id": "4iTRwQksYoYv"
      },
      "execution_count": null,
      "outputs": []
    },
    {
      "cell_type": "markdown",
      "source": [
        "### Cambiar valores de una lista"
      ],
      "metadata": {
        "id": "4kS2JO1XYoYv"
      }
    },
    {
      "cell_type": "code",
      "source": [
        "print(numeros)\n",
        "numeros[0] = 100\n",
        "numeros"
      ],
      "metadata": {
        "id": "2leJe0f0YoYw"
      },
      "execution_count": null,
      "outputs": []
    },
    {
      "cell_type": "markdown",
      "source": [
        "### Copiar una lista"
      ],
      "metadata": {
        "id": "FiDnEzAKYoYw"
      }
    },
    {
      "cell_type": "code",
      "source": [
        "candidatos = ciudades.copy()   # usando copy\n",
        "candidatos"
      ],
      "metadata": {
        "id": "UrBPH4eJYoYx"
      },
      "execution_count": null,
      "outputs": []
    },
    {
      "cell_type": "code",
      "source": [
        "sedes = ciudades[:]   # usando slicing\n",
        "sedes"
      ],
      "metadata": {
        "id": "Qa9XppD8YoYy"
      },
      "execution_count": null,
      "outputs": []
    },
    {
      "cell_type": "markdown",
      "source": [
        "#### Copia incorrecta de una lista\n",
        "* Este método no se debe usar ya que en realidad no se está haciendo una copia de una lista sino que estamos asignando dos nombres a una misma lista ya que ambos ocupan la misma dirección de memoria.\n",
        "* El gran inconveniente de este método es que si luego cambiamos un elemento en una lista también se cambiará en la otra ya que en realidad se trata de la misma lista.\n"
      ],
      "metadata": {
        "id": "Jd0vp8t0YoYy"
      }
    },
    {
      "cell_type": "code",
      "source": [
        "Julia = [\"Rojo\", \"Verde\", \"Azul\"]   # colores favoritos de Julia\n",
        "print(\"Colores favoritos de Julia:\", Julia)\n",
        "\n",
        "Pablo = Julia   # método incorrecto de hacer una copia de listas\n",
        "\n",
        "print(\"Colores favoritos de Pablo:\", Pablo)"
      ],
      "metadata": {
        "id": "Vy71q2OVYoY0"
      },
      "execution_count": null,
      "outputs": []
    },
    {
      "cell_type": "code",
      "source": [
        "Julia[0] = \"Rosa\"   # Julia cambia de opinión, ahora no le gusta el Rojo sino el Rosa\n",
        "print(\"Colores favoritos de Julia:\", Julia)\n",
        "print(\"Colores favoritos de Pablo:\", Pablo)   # También ha cambiado el color favorito para Pablo"
      ],
      "metadata": {
        "id": "V48XCRC7YoY1"
      },
      "execution_count": null,
      "outputs": []
    },
    {
      "cell_type": "code",
      "source": [
        "# vemos que ambas listas no son independientes, al hacer la copia se trata de la misma lista\n",
        "print(id(Julia))   # vemos que el id de ambas listas apunta a la misma dirección de memoria\n",
        "print(id(Pablo))   # en realidad se trata de la misma lista"
      ],
      "metadata": {
        "id": "rkZeRiiwYoY1"
      },
      "execution_count": null,
      "outputs": []
    }
  ]
}