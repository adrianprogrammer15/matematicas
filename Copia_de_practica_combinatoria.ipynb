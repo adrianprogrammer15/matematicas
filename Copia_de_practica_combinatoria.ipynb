{
  "nbformat": 4,
  "nbformat_minor": 0,
  "metadata": {
    "colab": {
      "provenance": [],
      "include_colab_link": true
    },
    "kernelspec": {
      "name": "python3",
      "display_name": "Python 3"
    },
    "language_info": {
      "name": "python"
    }
  },
  "cells": [
    {
      "cell_type": "markdown",
      "metadata": {
        "id": "view-in-github",
        "colab_type": "text"
      },
      "source": [
        "<a href=\"https://colab.research.google.com/github/adrianprogrammer15/matematicas/blob/main/Copia_de_practica_combinatoria.ipynb\" target=\"_parent\"><img src=\"https://colab.research.google.com/assets/colab-badge.svg\" alt=\"Open In Colab\"/></a>"
      ]
    },
    {
      "cell_type": "markdown",
      "source": [
        "# Práctica 1. Combinatoria\n",
        "Resuelva los siguientes apartados de la práctica.  \n",
        "La práctica 1.1 se proporciona solucionada para que pueda servir como ejemplo.\n"
      ],
      "metadata": {
        "id": "VP-PLgSCPtPC"
      }
    },
    {
      "cell_type": "markdown",
      "source": [
        "## Práctica 1.1\n",
        "Cuatro amigos:\n",
        "* Antonio (A)\n",
        "* Begoña (B)\n",
        "* Cesar (C)\n",
        "* Diana (D)\n",
        "\n",
        "constituyen una asociación y tienen que asignar los siguientes cargos:\n",
        "* Presiente (1)\n",
        "* Vicepresidente (2)\n",
        "* Secretario (3)\n",
        "* Tesorero (4)\n",
        "\n",
        "Se pide:\n",
        "1. Escribiendo la solución en una celda de Markdown analice el caso indicando si se trata de variaciones, permutaciones o combinaciones, con o sin repetición o el caso que sea, y el motivo para clasificar el caso de esta forma.\n",
        "2. Utilizando fórmulas de $\\LaTeX$ calcule cuántos casos existen.\n",
        "3. Cree un programa en Python para calcule cuántos casos existen.\n",
        "4. Cree un programa en Python para imprimir todas las posibilidades y numérelas. Por ejemplo:\n",
        "    - 1 ABCD\n",
        "    - 2 ABDC\n",
        "    - 3 ACBD\n",
        "    - &#20; &#20; &#20; ... ... ..."
      ],
      "metadata": {
        "id": "6oyoxqfbQJDC"
      }
    },
    {
      "cell_type": "markdown",
      "source": [
        "### Solución 1.1\n",
        "* Estamos ante un caso de **permutaciones sin repetición** ya que:\n",
        " - El orden importa, no es lo mismo estar el nº1 que significa ser presidente que el nº 4 que corresponde al tesorero.\n",
        " - Intervienen todos. Son 4 amigos para 4 cargos, todos tienen cargo, lo que cambiar es el orden, esto es, el cargo que obtengan.\n",
        " - No se repiten elementos. Una persona no puede tener dos cargos simultaneamente.\n",
        "* Los casos que se obtienen con las permutaciones sin repetición son $P_{n}=n!$ que para este ejemplo son:\n",
        "\n",
        "$$P_{4}=4!=4 \\cdot 3 \\cdot 2 \\cdot 1 = 24$$"
      ],
      "metadata": {
        "id": "t5unIqR7jdZR"
      }
    },
    {
      "cell_type": "code",
      "source": [
        "import math\n",
        "p = math.factorial(4)\n",
        "print(\"Los casos son: \", p)\n",
        "print(\"Comprobación:  \", 4*3*2*1)"
      ],
      "metadata": {
        "id": "va3_l_-hmFS-"
      },
      "execution_count": null,
      "outputs": []
    },
    {
      "cell_type": "markdown",
      "source": [
        "#### Método 1\n",
        "Sin usar librería."
      ],
      "metadata": {
        "id": "kOM3pEAGnh8v"
      }
    },
    {
      "cell_type": "code",
      "source": [
        "lista = ['A', 'B', 'C', 'D']\n",
        "contador = 1\n",
        "\n",
        "for i in lista:\n",
        "    for j in lista:\n",
        "        for k in lista:\n",
        "            for l in lista:\n",
        "                if i != j and i != k and i != l and j != k and j != l and k != l:\n",
        "                    print(f\"{contador:2d} →  {i+j+k+l}\")\n",
        "                    contador += 1"
      ],
      "metadata": {
        "id": "5--ZpSoJncj3"
      },
      "execution_count": null,
      "outputs": []
    },
    {
      "cell_type": "markdown",
      "source": [
        "#### Método 2\n",
        "* Usamos la función `permutations` de la librería `itertools`.\n",
        "* Imprimimos todas las permutaciones de los elementos de una lista."
      ],
      "metadata": {
        "id": "2PoCD5GlnwS1"
      }
    },
    {
      "cell_type": "code",
      "source": [
        "from itertools import permutations\n",
        "\n",
        "perm = permutations(['A','B','C','D'])   # obtenemos todas las permutaciones de la lista \n",
        "\n",
        "for i in list(perm):                     # imprimimos todas las permutaciones \n",
        "    print (*i)                           # con el asterisco se muestran las listas sin corchetes ni comas"
      ],
      "metadata": {
        "id": "eKkB1gQnn6_P"
      },
      "execution_count": null,
      "outputs": []
    },
    {
      "cell_type": "markdown",
      "source": [
        "## Práctica 1.2\n",
        "Cuatro amigos:\n",
        "* Antonio (A)\n",
        "* Begoña (B)\n",
        "* Cesar (C)\n",
        "* Diana (D)\n",
        "\n",
        "constituyen una asociación y tienen que asignar los siguientes cargos:\n",
        "* Presiente (1)\n",
        "* Secretario (3)\n",
        "* Tesorero (4)\n",
        "\n",
        "Se pide:\n",
        "1. Escribiendo la solución en una celda de Markdown analice el caso indicando si se trata de variaciones, permutaciones o combinaciones, con o sin repetición o el caso que sea, y el motivo para clasificar el caso de esta forma.\n",
        "2. Utilizando fórmulas de $\\LaTeX$ calcule cuántos casos existen.\n",
        "3. Cree un programa en Python para calcule cuántos casos existen.\n",
        "4. Cree un programa en Python para imprimir todas las posibilidades y numérelas. Por ejemplo:\n",
        "    - 1 ABC\n",
        "    - 2 ABD\n",
        "    - 3 ACB\n",
        "    - &#20; &#20; &#20; ... ... ..."
      ],
      "metadata": {
        "id": "sxSuCpAFSBPJ"
      }
    },
    {
      "cell_type": "markdown",
      "source": [
        "### Solución 1.2"
      ],
      "metadata": {
        "id": "xx9qsw_ej9Pd"
      }
    },
    {
      "cell_type": "markdown",
      "source": [
        "#Variación  \n",
        "- Nos encontramos ante un caso de *variaciones sin repetición*, debido a que \n",
        "tenemos **4 elementos** (Antonio, Begoña, César y Diana) que tenemos que ordenar **de 3 en 3** en función de su rol (Presidente, Secretario y Tesorero)  \n",
        "- Quedando uno de estos elementos fuera de nuestro orden  $3×3$  \n",
        " - Teniendo en cuanta que su orden **Sí** importa (No es lo mismo que Diana sea presidenta o que sea secretaria)\n",
        "\n",
        "-¿Cómo calculamos el número de casos posibles? Con la fórmula de variaciones sin repetición  \n",
        "\n",
        "\n",
        "$$V^r_n=\\frac{n!}{(n-r)!}=n \\cdot (n-1) \\cdot (n-2) \\cdots (n-r+1)$$    \n",
        "\n",
        "\n",
        "- Aplicando esta fórmula al caso propuesto:  \n",
        "$$V^r_n=\\frac{n!}{(n-r)!}=\\frac{4!}{(4-3)!}=\\frac{4!}{1!}=\\frac{4 \\cdot 3 \\cdot 2 \\cdot 1}{1}=4 \\cdot 3 \\cdot 2=24 $$ \n",
        "\n",
        "Teniendo en cuenta que :  \n",
        "A= Antonio, B= Begoña, C= César y D= Diana  \n",
        "La posición 1 constituye a Presidente, la 2 a Secretario y la 3 a Tesorero.  \n",
        "Se tiene:\n",
        "\n",
        "\n",
        "\n",
        "\n"
      ],
      "metadata": {
        "id": "9s2_zbMV2DZT"
      }
    },
    {
      "cell_type": "code",
      "source": [
        "import itertools\n",
        "it = itertools.permutations([\"A\",\"B\",\"C\",\"D\"],3)\n",
        "li = list(it)\n",
        "print(li)\n",
        "\n",
        "print()\n",
        "\n",
        "for i in range(len(li)):\n",
        "  print(f\"Variación {i+1:2d}: \", *li[i])"
      ],
      "metadata": {
        "id": "lS_M2YEf9me4"
      },
      "execution_count": null,
      "outputs": []
    },
    {
      "cell_type": "markdown",
      "source": [
        "## Práctica 1.3\n",
        "Invente un caso de **variaciones sin repetición**.\n",
        "Se pide contestar a los mismos puntos que el caso anterior."
      ],
      "metadata": {
        "id": "D0S1DjF4MKmz"
      }
    },
    {
      "cell_type": "markdown",
      "source": [
        "### Solución 1.3"
      ],
      "metadata": {
        "id": "AfyuPIASj_20"
      }
    },
    {
      "cell_type": "markdown",
      "source": [
        "Un alumno se ha creado una cuenta de GitHub y quiere crear una contraseña lo suficientemente segura. Le piden: \n",
        "- Que su contraseña sea de 4 cifras. \n",
        "- Utilice los números comprendidos entre el 1-7. \n",
        "- Que los números no se repitan \n",
        "\n",
        "El alumnno quiere conocer el número de contraseñas que puede crear, y por ende, cúales son.  \n",
        "Para conocer el número de contraseñas que se pueden formar, aplicamos los datos a la fórmula:\n",
        "\n",
        "$$V^r_n=\\frac{n!}{(n-r)!}=\\frac{7!}{(7-4)!}=\\frac{7!}{3!}=\\frac{7 \\cdot 6 \\cdot 5 \\cdot 4 \\cdot 3!}{3!}=7 \\cdot 6 \\cdot 5 \\cdot 4=840 $$ \n",
        "\n"
      ],
      "metadata": {
        "id": "Wffr6pF6A3F8"
      }
    },
    {
      "cell_type": "code",
      "source": [
        "import itertools\n",
        "it = itertools.permutations([1,2,3,4,5,6,7],4)\n",
        "li = list(it)\n",
        "print(li)\n",
        "\n",
        "print()\n",
        "\n",
        "for i in range(len(li)):\n",
        "  print(f\"Contraseña {i+1:3d}: \", *li[i])"
      ],
      "metadata": {
        "id": "R_uCOlAoFpDB"
      },
      "execution_count": null,
      "outputs": []
    },
    {
      "cell_type": "markdown",
      "source": [
        "## Práctica 1.4\n",
        "Invente un caso de **variaciones con repetición**.\n",
        "Se pide contestar a los mismos puntos que el caso anterior."
      ],
      "metadata": {
        "id": "gvlnqCaRMTua"
      }
    },
    {
      "cell_type": "markdown",
      "source": [
        "Apoyándonos en el ejemplo anterior:  \n",
        "Vamos a ver el número de contraseñas posibles , pero pudiendo repetir dígito.  \n",
        "Ahora la fórmula sería:  \n",
        "$$V^n_m=m^n$$  \n",
        "\n",
        "Aplicando los datos del ejercicio anterior, en el que teníamos que comprobar el número de contraseñas que se podían formar a partir de los números comprendidos del 1-7, siendo la contraseña de una extensión de 4 dígitos.  \n",
        "Se tiene:  \n",
        "$$V^n_m=m^n=7^4=2401$$  \n",
        "\n",
        "\n",
        "\n",
        "\n",
        "\n",
        "\n"
      ],
      "metadata": {
        "id": "8hfQUBx7cvKu"
      }
    },
    {
      "cell_type": "code",
      "source": [],
      "metadata": {
        "id": "DUlqnETTYVvH"
      },
      "execution_count": null,
      "outputs": []
    },
    {
      "cell_type": "markdown",
      "source": [
        "### Solución 1.4"
      ],
      "metadata": {
        "id": "hzvsgRDbkCy1"
      }
    },
    {
      "cell_type": "markdown",
      "source": [
        "## Práctica 1.5\n",
        "Invente un caso de **permutaciones sin repetición**.\n",
        "Se pide contestar a los mismos puntos que el caso anterior."
      ],
      "metadata": {
        "id": "0OCAC-I-G5F6"
      }
    },
    {
      "cell_type": "markdown",
      "source": [
        "Mi grupo de amigos y yo conformamos un grupo de 5 personas. Decidimos ir al cine.  \n",
        "Entramos en la sala y nos sentamos en una fila. ¿De cuántas maneras distintas nos podríamos sentar?:  \n",
        "- El orden **SÍ** importa\n",
        "- Intervienen todos los elementos\n",
        "- No se repiten  \n",
        "\n",
        "Utilizando la siguiente fórmula obtendremos el número de casos en los que mi grupo de 7 personas podemos sentarnos en la fila del cine:  \n",
        "\n",
        "\n",
        "$$P_m= m!$$  \n",
        "Aplicando la información a la fórmula:  \n",
        "$$P_m=5!= 5 \\cdot 4 \\cdot 3 \\cdot 2 \\cdot 1 = 120$$  \n",
        "Siendo el primer amigo A, el segundo B...etc:\n"
      ],
      "metadata": {
        "id": "3APue8sJv5a6"
      }
    },
    {
      "cell_type": "code",
      "source": [
        "lista = [\"A\",\"B\",\"C\",\"D\",\"E\"]\n",
        "contador = 1\n",
        "\n",
        "for i in lista:\n",
        "    for j in lista:\n",
        "      for k in lista:\n",
        "        for l in lista:\n",
        "          for m in lista:\n",
        "            if i != j and i != k and i != l and i != m and j != k and j != l and j != m and k != l and k != m and l != m:\n",
        "              print(f\"{contador:3d}:   {i+j+k+l+m}\")\n",
        "              contador += 1\n",
        "\n",
        "\n"
      ],
      "metadata": {
        "id": "1OFi88aN0PD8"
      },
      "execution_count": null,
      "outputs": []
    },
    {
      "cell_type": "markdown",
      "source": [
        "### Solución 1.5"
      ],
      "metadata": {
        "id": "FvLcj6XXkFOV"
      }
    },
    {
      "cell_type": "markdown",
      "source": [
        "## Práctica 1.6\n",
        "Invente un caso de **permutaciones con repetición**.\n",
        "Se pide contestar a los mismos puntos que el caso anterior."
      ],
      "metadata": {
        "id": "YWUXIczqLj3W"
      }
    },
    {
      "cell_type": "markdown",
      "source": [
        "### Solución 1.6\n",
        "Tenemos la palabra BANANA y queremos saber cuantas nuevas palabras se pueden formar a partir de sus letras, pudiéndose repetir y no siendo necesario que estas tengan sentido. \n",
        "La fórmula para calcular el número de nuevas palabras es:  \n",
        "$$V^k_n=\\frac {n!} {k_1 ! \\cdot k_2 ! \\cdot k_r !}$$  \n",
        "- Número de veces que se repite la letra B = 1\n",
        "- Número de veces que se repite la letra A = 3\n",
        "- Número de veces que se repite la letra N = 2\n",
        "- Número total de elementos: n = 1+3+2  ➜  n = 6  \n",
        "- Con los siguientes datos:  \n",
        "$$V^k_n=\\frac {6!} {1 ! \\cdot 2 ! \\cdot 3 !} = \\frac {720} {12} = 60   $$  \n",
        "\n",
        "\n",
        "\n"
      ],
      "metadata": {
        "id": "siAxWVVekHs6"
      }
    },
    {
      "cell_type": "markdown",
      "source": [
        "## Práctica 1.7\n",
        "Invente un caso de **combinaciones sin repetición**.\n",
        "Se pide contestar a los mismos puntos que el caso anterior."
      ],
      "metadata": {
        "id": "opCrIDtJGg1R"
      }
    },
    {
      "cell_type": "markdown",
      "source": [
        "### Solución 1.7"
      ],
      "metadata": {
        "id": "Zs46BsRnkJcl"
      }
    },
    {
      "cell_type": "markdown",
      "source": [
        "## Práctica 1.8\n",
        "Invente un caso de **combinaciones con repetición**.\n",
        "Se pide contestar a los mismos puntos que el caso anterior."
      ],
      "metadata": {
        "id": "-7Y5WWlDGzAR"
      }
    },
    {
      "cell_type": "markdown",
      "source": [
        "### Solución 1.8"
      ],
      "metadata": {
        "id": "ReRULqd8kL1F"
      }
    },
    {
      "cell_type": "markdown",
      "source": [
        "## Práctica 1.9\n",
        "En el gobierno se crea una unidad de crisis formada por el presidente (P) y 4 ministros (A,B,C,D) que se reúnen sentados alrededor de una **mesa redonda**.\n",
        "\n",
        "Se pide:  \n",
        "1. Calcule de cuantas formas pueden llegar a sentarse si el ministro de defensa (D) siempre ha de estar al lado del presidente (P). Escriba la solución en una celda de Markdown utilizando fórmulas en $\\LaTeX$  explicando el caso.\n",
        "2. Cree un programa en Python para calcular el número de casos que se pueden dar al sentarse en la mesa.\n",
        "3. Cree un programa en Python para imprimir todas las posibilidades y numérelas. Por ejemplo:\n",
        "    - 1 PDABC\n",
        "    - 2 PDACB\n",
        "    - 3 PDBCD\n",
        "    - 4 PDBDC\n",
        "    - 5 PDCAB\n",
        "    - 6 PDCBA\n",
        "    - 7 DPABC\n",
        "    - 8 DPACB\n",
        "    - &#20; &#20; &#20; ... ... ...\n"
      ],
      "metadata": {
        "id": "SOzxh_YgHnDG"
      }
    },
    {
      "cell_type": "markdown",
      "source": [
        "### Solución 1.9"
      ],
      "metadata": {
        "id": "F8kV034OkQZX"
      }
    },
    {
      "cell_type": "markdown",
      "source": [
        "## Práctica 1.10\n",
        "* Realice una breve explicación teórica del **triángulo de Pascal**, o también llamado triángulo de Tartaglia, y de las fórmulas de los números combinatorios.\n",
        "* Cree un programa en Python para hacer el triángulo de Pascal."
      ],
      "metadata": {
        "id": "eiHdMOP-MkrZ"
      }
    },
    {
      "cell_type": "markdown",
      "source": [
        "### Solución 1.10"
      ],
      "metadata": {
        "id": "j0UT2579kTSM"
      }
    },
    {
      "cell_type": "markdown",
      "source": [],
      "metadata": {
        "id": "sVgD-3u_46xU"
      }
    },
    {
      "cell_type": "code",
      "source": [
        "filas = []\n",
        "numero = 5\n",
        "expansión = \"\"\n",
        "value = numero;\n",
        "for i in range(1,numero):\n",
        "    lon_antigua = len(filas)\n",
        "    fila_nueva = [1]\n",
        "    for j in range(0,lon_antigua-1):\n",
        "      calculo = filas[j]+filas[j+1]\n",
        "      fila_nueva.append(calculo)\n",
        "    fila_nueva.append(1)\n",
        "    expansion = \"\\t\".expandtabs(value)\n",
        "    value -= 1\n",
        "    print(\"{} {}\".format(expansion,fila_nueva))\n",
        "    filas = fila_nueva\n",
        "\n"
      ],
      "metadata": {
        "id": "MzVlLSfF47MM"
      },
      "execution_count": null,
      "outputs": []
    }
  ]
}