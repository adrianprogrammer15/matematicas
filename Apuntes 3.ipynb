{
  "nbformat": 4,
  "nbformat_minor": 0,
  "metadata": {
    "colab": {
      "provenance": [],
      "include_colab_link": true
    },
    "kernelspec": {
      "name": "python3",
      "display_name": "Python 3"
    },
    "language_info": {
      "name": "python"
    }
  },
  "cells": [
    {
      "cell_type": "markdown",
      "metadata": {
        "id": "view-in-github",
        "colab_type": "text"
      },
      "source": [
        "<a href=\"https://colab.research.google.com/github/adrianprogrammer15/matematicas/blob/main/Apuntes%203.ipynb\" target=\"_parent\"><img src=\"https://colab.research.google.com/assets/colab-badge.svg\" alt=\"Open In Colab\"/></a>"
      ]
    },
    {
      "cell_type": "markdown",
      "source": [
        "# Condicionales `if`\n",
        "Se analiza un condición y según sera verdadera (True) o falsa (Fasle) se actúa de una o de otra manera."
      ],
      "metadata": {
        "id": "K49Ms75DZuhD"
      }
    },
    {
      "cell_type": "code",
      "source": [
        "edad = 12\n",
        "\n",
        "if edad >= 18:\n",
        "    print(\"Puede obtener el permiso de conducir clase B\")\n",
        "else:\n",
        "    print(\"Usted aún no tiene edad para obtener el permiso B\")\n",
        "\n",
        "print(\"Fin del programa\")"
      ],
      "metadata": {
        "colab": {
          "base_uri": "https://localhost:8080/"
        },
        "id": "R7dPe4a3aGp1",
        "outputId": "4445e6e1-b8c5-4e74-d033-c6c90717f6d1"
      },
      "execution_count": null,
      "outputs": [
        {
          "output_type": "stream",
          "name": "stdout",
          "text": [
            "Usted aún no tiene edad para obtener el permiso B\n",
            "Fin del programa\n"
          ]
        }
      ]
    },
    {
      "cell_type": "markdown",
      "source": [
        "## Condicionales múltiples\n",
        "```python\n",
        "if <condición 1>:\n",
        "    <código>\n",
        "elif <condición 2>:\n",
        "    <código>\n",
        "elif <condición 3>:\n",
        "    <código>\n",
        "else:\n",
        "    <código>\n",
        "```"
      ],
      "metadata": {
        "id": "WQu1ytSPb8r1"
      }
    },
    {
      "cell_type": "code",
      "source": [
        "edad = 8\n",
        "if edad >= 18:\n",
        "    print('Eres mayor de edad.')\n",
        "elif edad >= 13:\n",
        "    print('Eres un adolescente.')\n",
        "else:\n",
        "    print('Eres un niño.')"
      ],
      "metadata": {
        "colab": {
          "base_uri": "https://localhost:8080/"
        },
        "id": "SL4KPoMNcHtv",
        "outputId": "dcb1706c-edf3-4021-b0f8-ed05799e4431"
      },
      "execution_count": null,
      "outputs": [
        {
          "output_type": "stream",
          "name": "stdout",
          "text": [
            "Eres un niño.\n"
          ]
        }
      ]
    },
    {
      "cell_type": "code",
      "source": [
        "ciudades =[\"Roma\", \"Londres\", \"París\", \"Madrid\", \"Berlín\"]\n",
        "city = \"París\"\n",
        "\n",
        "if city in ciudades:\n",
        "    print(f\"{city} si se encuentra en la lista de ciudades.\")\n",
        "else:\n",
        "    print(f'{city} no se encuentra en la lista de ciudades.')"
      ],
      "metadata": {
        "colab": {
          "base_uri": "https://localhost:8080/"
        },
        "id": "bsXRsujCcWSc",
        "outputId": "19fe2796-f755-4317-dac4-623b1caa3f7b"
      },
      "execution_count": null,
      "outputs": [
        {
          "output_type": "stream",
          "name": "stdout",
          "text": [
            "París si se encuentra en la lista de ciudades.\n"
          ]
        }
      ]
    }
  ]
}