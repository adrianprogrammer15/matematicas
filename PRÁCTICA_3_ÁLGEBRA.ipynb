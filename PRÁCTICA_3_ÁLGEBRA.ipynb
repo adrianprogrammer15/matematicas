{
  "nbformat": 4,
  "nbformat_minor": 0,
  "metadata": {
    "colab": {
      "provenance": [],
      "include_colab_link": true
    },
    "kernelspec": {
      "name": "python3",
      "display_name": "Python 3"
    },
    "language_info": {
      "name": "python"
    }
  },
  "cells": [
    {
      "cell_type": "markdown",
      "metadata": {
        "id": "view-in-github",
        "colab_type": "text"
      },
      "source": [
        "<a href=\"https://colab.research.google.com/github/adrianprogrammer15/math/blob/main/Copia_de_practica_algebra.ipynb\" target=\"_parent\"><img src=\"https://colab.research.google.com/assets/colab-badge.svg\" alt=\"Open In Colab\"/></a>"
      ]
    },
    {
      "cell_type": "markdown",
      "source": [
        "# Práctica 3. Álgebra\n",
        "* Para aprender sobre Python vea la playlist [Python para Matemáticas](https://www.youtube.com/playlist?list=PL8gpDXwO-9l4HkDJ9QhB4H-cOiT0BYGau)\n",
        "* Para obtener ideas y vídeos para la resolución de la práctica vea los archivos siguientes: [Ideas](https://github.com/financieras/math/tree/main/ideas)"
      ],
      "metadata": {
        "id": "b13aYMDxmd7v"
      }
    },
    {
      "cell_type": "markdown",
      "source": [
        "## Práctica 3.1\n",
        "**Determinante en Excel**  \n",
        "\n",
        "* Cree un fichero en Excel de nombre algebra.xlsm.\n",
        "* La extensión **xlsm** corresponde a los archivos de Excel habilitados para macros.\n",
        "* Utilice la Hoja 1 para hacer la Práctica 3.1.\n",
        "* Se pide:\n",
        " 1. Cree una matriz cuadrada de dimensión 5×5, formada por números aleatorios enteros entre -9 y +9.\n",
        " 2. Calcule el determinante de esta matriz\n",
        " 3. Cree un programa en **VBA** que busque una matriz de este tipo cuyo determinante sea cero.\n",
        " 4. Copie la matriz encontrada y péguela debajo con \"pegado especial valores\" para que no varíe su contenido al efectuar el recálculo manual de la hoja."
      ],
      "metadata": {
        "id": "XWa9IdzJmpbB"
      }
    },
    {
      "cell_type": "markdown",
      "source": [
        "## Práctica 3.2\n",
        "**Matriz inversa en Excel**  \n",
        "\n",
        "* Use el mismo archivo de Excel con extensión **xlsm** del caso anterior. \n",
        "* Utilice la Hoja 2 para hacer la Práctica 3.2.\n",
        "* Se pide:\n",
        " 1. Crea la matriz $A$ que es una matriz cuadrada de dimensiones 5×5 usando números aleatorios enteros entre -9 y +9, excepto cero\n",
        " 2. Calcule su determinante\n",
        " 3. Calcule su transpuesta usando la función ```TRANSPONER```\n",
        " 4. Calcule su matriz inversa $A^{-1}$\n",
        " 5. Multiplique la matriz $A$ por su inversa $A^{-1}$ y compruebe que el producto es la matriz identidad.\n",
        " $$AA^{-1}=I$$"
      ],
      "metadata": {
        "id": "cP-ppBE1rzGW"
      }
    },
    {
      "cell_type": "markdown",
      "source": [
        "## Práctica 3.3\n",
        "**Resolución de sistemas lineales en Excel**  \n",
        "\n",
        "* Use el mismo archivo de Excel con extensión **xlsm** del caso anterior. \n",
        "* Utilice la Hoja 3 para hacer la Práctica 3.3.\n",
        "* Se pide:\n",
        " 1. Cree un sistema de 5 ecuaciones con 5 incógnitas con **solución única**.\n",
        " 2. Una de las ecuaciones será: $\\quad x_1+2x_2-x_3+x_4-3x_5=6$\n",
        " 3. Muestre las ecuaciones del sistema usando el [editor de ecuaciones](https://support.microsoft.com/es-es/office/editor-de-ecuaciones-6eac7d71-3c74-437b-80d3-c7dea24fdf3f) de Excel. $\\quad Ax=b$\n",
        " 4. Monte la matriz $A$ del sistema de ecuaciones y la matriz $b$ con los términos independientes. Muestre ambas matrices.\n",
        " 5. Calcule la matriz inversa $A^{-1}$\n",
        " 6. Resuelva el sistema lineal de ecuaciones con este método: $\\quad Ax=b \\quad \\Longrightarrow \\quad x=A^{-1}b$\n",
        " 7. Compruebe si el resultado obtenido es la solución del sistema de ecuaciones. Justifique esa comprobación."
      ],
      "metadata": {
        "id": "jJRClauctBdf"
      }
    },
    {
      "cell_type": "markdown",
      "source": [
        "## Práctica 3.4\n",
        "**Matriz inversa en Python**  \n",
        "\n",
        "Desarrolla un código en Python que al ejecutarse consiga los siguientes apartados.  \n",
        "1. Crea una matriz cuadrada de dimensiones 3×3 usando números aleatorios enteros entre -9 y +9, excepto cero\n",
        "2. Buscar un caso donde el determinante sea igual a 1\n",
        "3. Si el determinante es 1 imprime la matriz y su determinante\n",
        "4. Calcula e imprime su transpuesta\n",
        "5. Calcula e imprime su matriz inversa\n",
        "6. Multiplica la matriz creada por su inversa y comprueba que el producto es la matriz identidad.\n",
        "7. Calcula cuantos segundos ha tardado en realizarse el proceso."
      ],
      "metadata": {
        "id": "EMlUZC6Lqzfs"
      }
    },
    {
      "cell_type": "markdown",
      "source": [
        "## Solución 3.4"
      ],
      "metadata": {
        "id": "V4Ps5Fphpa-4"
      }
    },
    {
      "cell_type": "code",
      "source": [
        "import numpy as np\n",
        "\n",
        "n = 3   \n",
        "\n",
        "while True:\n",
        "    m = np.random.randint(-9,10, size=(n, n))   \n",
        "    determ = np.linalg.det(m)\n",
        "    if determ == 1:\n",
        "        print(\"La matriz m es: \")\n",
        "        print(m)\n",
        "        break\n",
        "transpuesta = np.transpose(m)\n",
        "inversa = np.linalg.inv(m)\n",
        "print(f\"El determinante de la matriz es {determ}\")\n",
        "print(\"La matriz traspuesta de m es: \"  )\n",
        "print(transpuesta)\n",
        "print(\"La inversa de la matriz m es: \")\n",
        "print(inversa)\n",
        "\n",
        "identidad = np.dot(m, np.linalg.inv(m))\n",
        "print(\"La multiplicacion de la matriz inversa y la matriz m es: \")\n",
        "print(identidad)   \n",
        "\n",
        "from time import process_time\n",
        "\n",
        "t1 = process_time()\n",
        "\n",
        "for i in range(10_000_000):\n",
        "    cuadrado = i**2\n",
        "\n",
        "t2 = process_time()\n",
        "print(f\"El proceso ha tardado {t2-t1} segundos.\")\n",
        "\n",
        "\n",
        "\n",
        "\n"
      ],
      "metadata": {
        "colab": {
          "base_uri": "https://localhost:8080/"
        },
        "id": "FqgtqHuslXPK",
        "outputId": "ff2d6c20-b2f0-4737-823e-56c307aa3382"
      },
      "execution_count": null,
      "outputs": [
        {
          "output_type": "stream",
          "name": "stdout",
          "text": [
            "La matriz m es: \n",
            "[[ 8  1 -6]\n",
            " [ 7  1  9]\n",
            " [-7 -1 -8]]\n",
            "El determinante de la matriz es 1.0\n",
            "La matriz traspuesta de m es: \n",
            "[[ 8  7 -7]\n",
            " [ 1  1 -1]\n",
            " [-6  9 -8]]\n",
            "La inversa de la matriz m es: \n",
            "[[   1.   14.   15.]\n",
            " [  -7. -106. -114.]\n",
            " [   0.    1.    1.]]\n",
            "La multiplicacion de la matriz inversa y la matriz m es: \n",
            "[[1. 0. 0.]\n",
            " [0. 1. 0.]\n",
            " [0. 0. 1.]]\n",
            "El proceso ha tardado 3.4464222929999977 segundos.\n"
          ]
        }
      ]
    },
    {
      "cell_type": "markdown",
      "source": [
        "## Práctica 3.5\n",
        "**Resolución de sistemas lineales en Python**  \n",
        "\n",
        "1. Cree un sistema de 4 ecuaciones con 4 incógnitas con **solución única**.\n",
        "2. La solución del sistema es: $\\; \\begin{pmatrix}x_1, x_2, x_3, x_4\\end{pmatrix} = \\begin{pmatrix} 3, 4, 5, 2\\end{pmatrix}$  \n",
        "3. Una de las ecuaciones del sistema es: $\\enspace x_1+3x_2-x_3-2x_4=6$  \n",
        "4. El vector $b$ de términos independientes es: $\\enspace b=\\begin{pmatrix}6, 3, 5, 7\\end{pmatrix}$  \n",
        "5. Usando números aleatorios elija los coeficientes que faltan de la matriz $A$ del sistema de ecuaciones.\n",
        "  - Los coeficientes deben ser números enteros entre -5 y +5, excluido el cero.\n",
        "  - Imprima la matriz $A$.  \n",
        "6. Calcule e imprima el determinante de $A$.\n",
        "7. Calcule e imprima la matriz inversa $A^{-1}$  \n",
        "8. Resuelva el sistema lineal de ecuaciones con este método: $$Ax=b \\quad \\Longrightarrow \\quad x=A^{-1}b$$\n",
        "9. Compruebe que el resultado obtenido es la solución del sistema de ecuaciones.  \n",
        "10. Resuelva nuevamente el sistema de ecuaciones usando ```np.linalg.solve```."
      ],
      "metadata": {
        "id": "tQQS7GPXIdjH"
      }
    },
    {
      "cell_type": "markdown",
      "source": [
        "## Solución 3.5"
      ],
      "metadata": {
        "id": "w1S76e7eQiUz"
      }
    },
    {
      "cell_type": "markdown",
      "source": [
        "Comenzamos generando listas de 4 números aleatorios (-5 al 5, menos el 0) para construir nuestro sistema."
      ],
      "metadata": {
        "id": "wHRF1wad8h6D"
      }
    },
    {
      "cell_type": "code",
      "source": [
        "import numpy as np\n",
        "list = np.random.choice([-5, -4, -3, -2, -1, 1, 2, 3, 4, 5], 4)\n",
        "print(list)"
      ],
      "metadata": {
        "colab": {
          "base_uri": "https://localhost:8080/"
        },
        "id": "kzHRyY-15q1i",
        "outputId": "782e7c82-db69-44ba-c6dd-677ec1d4f81a"
      },
      "execution_count": null,
      "outputs": [
        {
          "output_type": "stream",
          "name": "stdout",
          "text": [
            "[ 1  4  2 -5]\n"
          ]
        }
      ]
    },
    {
      "cell_type": "markdown",
      "source": [
        "Una vez elegidos los grupos de 4 números para conformar nuestro sistemas de ecuaciones, construimos una matriz 4x4 con estos valores. Imprimimos la matriz A:"
      ],
      "metadata": {
        "id": "xtQDWQCdAJ9Y"
      }
    },
    {
      "cell_type": "code",
      "source": [
        "fila1 = [1, 3, -1,-2]\n",
        "fila2 = [-5,-1 , 4 , 4]\n",
        "\n",
        "fila3 = [ 1, -4 ,-1 , 4]\n",
        "\n",
        "fila4 = [ 1,  4,  2, -5]\n",
        "matriz = [f1, f2, f3, f4]\n",
        "\n",
        "lista = np.array(matriz)\n",
        "print(lista)"
      ],
      "metadata": {
        "colab": {
          "base_uri": "https://localhost:8080/"
        },
        "id": "uYlT_jbC_XrW",
        "outputId": "cd8e82b8-2165-4a5e-e0c6-b109eed46f37"
      },
      "execution_count": null,
      "outputs": [
        {
          "output_type": "stream",
          "name": "stdout",
          "text": [
            "[[ 1  3 -1 -2]\n",
            " [-5 -1  4  4]\n",
            " [ 1 -4 -1  4]\n",
            " [ 1  4  2 -5]]\n"
          ]
        }
      ]
    },
    {
      "cell_type": "markdown",
      "source": [
        "Calculamos el determinante de $A$"
      ],
      "metadata": {
        "id": "l4brc2ptNGJF"
      }
    },
    {
      "cell_type": "code",
      "source": [
        "import numpy as np\n",
        "m = [[ 1, 3, -1, -2], [-5, -1, 4, 4], [ 1, -4, -1, 4] , [ 1, 4, 2, -5] ]\n",
        "np.linalg.det(m)\n",
        "int(np.linalg.det(m))     # Convertimos el número en entero debido a que nos arroja gran cantidad de decimales residuales"
      ],
      "metadata": {
        "colab": {
          "base_uri": "https://localhost:8080/"
        },
        "id": "M29jho8lBUJH",
        "outputId": "778ed98c-d464-451c-e6e2-0545c1d6ce66"
      },
      "execution_count": null,
      "outputs": [
        {
          "output_type": "execute_result",
          "data": {
            "text/plain": [
              "-111"
            ]
          },
          "metadata": {},
          "execution_count": 108
        }
      ]
    },
    {
      "cell_type": "markdown",
      "source": [
        "Calculamos  $A^{-1}$  "
      ],
      "metadata": {
        "id": "WrmqPPfNMzNX"
      }
    },
    {
      "cell_type": "code",
      "source": [
        "import numpy as np\n",
        "\n",
        "m = np.array([[ 1, 3, -1, -2], [-5, -1, 4, 4], [ 1, -4, -1, 4] , [ 1, 4, 2, -5] ])\n",
        "print(\"Matriz:\")\n",
        "print(m)\n",
        "print()\n",
        "\n",
        "print(\"Inversa:\")\n",
        "minv = np.linalg.inv(m)\n",
        "print(minv)\n",
        "\n",
        "\n"
      ],
      "metadata": {
        "colab": {
          "base_uri": "https://localhost:8080/"
        },
        "id": "CQhBUQ1GFUGU",
        "outputId": "470489da-2274-4d4f-add9-4f77472572e2"
      },
      "execution_count": null,
      "outputs": [
        {
          "output_type": "stream",
          "name": "stdout",
          "text": [
            "Matriz:\n",
            "[[ 1  3 -1 -2]\n",
            " [-5 -1  4  4]\n",
            " [ 1 -4 -1  4]\n",
            " [ 1  4  2 -5]]\n",
            "\n",
            "Inversa:\n",
            "[[ 0.26126126  0.02702703  0.53153153  0.34234234]\n",
            " [ 0.56756757  0.16216216  0.18918919  0.05405405]\n",
            " [-0.02702703  0.13513514  0.32432432  0.37837838]\n",
            " [ 0.4954955   0.18918919  0.38738739  0.06306306]]\n"
          ]
        }
      ]
    },
    {
      "cell_type": "markdown",
      "source": [
        "Buscamos la solución del sistema mediante la ecuación  $$Ax=b \\quad \\Longrightarrow \\quad x=A^{-1}b$$"
      ],
      "metadata": {
        "id": "9YGdTM3SMaLe"
      }
    },
    {
      "cell_type": "code",
      "source": [
        "import numpy as np\n",
        "a = np.array([[ 1, 3, -1, -2], [-5, -1, 4, 4], [ 1, -4, -1, 4] , [ 1, 4, 2, -5] ])\n",
        "b = np.array([6,3,5,7])\n",
        "a_inv = np.linalg.inv(a)\n",
        "np.dot(a_inv, b) \n",
        "round_off_values = print(np.round_(np.dot(a_inv, b)) ) # Para redondear con numpy trabajamos con round_off_values e imprimimos la solución del sistema con números enteros\n",
        "\n"
      ],
      "metadata": {
        "colab": {
          "base_uri": "https://localhost:8080/"
        },
        "id": "MySvEgMxHvV8",
        "outputId": "c541c16b-f415-4400-e7d7-41159f4d582e"
      },
      "execution_count": null,
      "outputs": [
        {
          "output_type": "stream",
          "name": "stdout",
          "text": [
            "[7. 5. 5. 6.]\n"
          ]
        }
      ]
    },
    {
      "cell_type": "markdown",
      "source": [
        "En este caso resolveremos por el método ```np.linalg.solve```."
      ],
      "metadata": {
        "id": "aX5R8o8YMmVp"
      }
    },
    {
      "cell_type": "code",
      "source": [
        "import numpy as np\n",
        "a = np.array([[ 1, 3, -1, -2], [-5, -1, 4, 4], [ 1, -4, -1, 4] , [ 1, 4, 2, -5] ])\n",
        "b = np.array([6,3,5,7])\n",
        "solucion = np.linalg.solve(a,b)\n",
        "round_off_values = print(np.round_(solucion))    # Volvemos a redondear"
      ],
      "metadata": {
        "colab": {
          "base_uri": "https://localhost:8080/"
        },
        "id": "MKXLcWO8LeD8",
        "outputId": "029ecb0a-f5d0-457d-85d5-d745f780b410"
      },
      "execution_count": null,
      "outputs": [
        {
          "output_type": "stream",
          "name": "stdout",
          "text": [
            "[7. 5. 5. 6.]\n"
          ]
        }
      ]
    },
    {
      "cell_type": "markdown",
      "source": [
        "## Práctica 3.6\n",
        "**Resolución de sistemas lineales con Octave**  \n",
        "\n",
        "1. Tome el mismo sistema 4x4 con solución única del ejercicio anterior.\n",
        "2. Muestra el sistema usando $\\LaTeX$\n",
        "3. Resuélvelo con Octave por dos métodos\n",
        "4. ¿Ambos métodos dan el mismo resultado?"
      ],
      "metadata": {
        "id": "M39ufifh_Jr8"
      }
    },
    {
      "cell_type": "markdown",
      "source": [
        "## Solución 3.6\n",
        "\n",
        "$$\\left.\n",
        "\\begin{align*}\n",
        "x + 3y- z -2t &=  6 \\\\\n",
        "-5x -y +4z +4t&=  3 \\\\\n",
        "x -4y -1z +4t &= 5 \\\\\n",
        "x +4y +2z -5t &= 7\n",
        "\\end{align*}\n",
        "\\right\\}$$"
      ],
      "metadata": {
        "id": "KjTpUpzCOi8e"
      }
    },
    {
      "cell_type": "code",
      "source": [
        "!apt install octave"
      ],
      "metadata": {
        "id": "bz5rXXiRRcJc"
      },
      "execution_count": null,
      "outputs": []
    },
    {
      "cell_type": "code",
      "source": [
        "!apt update"
      ],
      "metadata": {
        "id": "VMG8Ua2-R1ZQ"
      },
      "execution_count": null,
      "outputs": []
    },
    {
      "cell_type": "markdown",
      "source": [
        "##Método 1"
      ],
      "metadata": {
        "id": "eypSPgyaUC1R"
      }
    },
    {
      "cell_type": "code",
      "source": [
        "%%writefile primero.m\n",
        "A = [1 3 -1 -2; -5 -1 4 4; 1 -4 -1 4; 1 4 2 -5]\n",
        "b = [6; 3; 5; 7]\n",
        "x= inv(A)*b\n",
        "% solución 1, rats expresa los número como fracciones o enteros\n",
        "s1 =rats(x)"
      ],
      "metadata": {
        "colab": {
          "base_uri": "https://localhost:8080/"
        },
        "id": "EIFIGe10S_g8",
        "outputId": "c580dd03-62a9-4601-d7dd-93553fd13bac"
      },
      "execution_count": null,
      "outputs": [
        {
          "output_type": "stream",
          "name": "stdout",
          "text": [
            "Writing primero.m\n"
          ]
        }
      ]
    },
    {
      "cell_type": "code",
      "source": [
        "!octave primero.m"
      ],
      "metadata": {
        "colab": {
          "base_uri": "https://localhost:8080/"
        },
        "id": "Z-gmole2TsZc",
        "outputId": "198d5754-3fce-42c9-cb6e-e745de663d5a"
      },
      "execution_count": null,
      "outputs": [
        {
          "output_type": "stream",
          "name": "stdout",
          "text": [
            "octave: X11 DISPLAY environment variable not set\n",
            "octave: disabling GUI features\n",
            "A =\n",
            "\n",
            "   1   3  -1  -2\n",
            "  -5  -1   4   4\n",
            "   1  -4  -1   4\n",
            "   1   4   2  -5\n",
            "\n",
            "b =\n",
            "\n",
            "   6\n",
            "   3\n",
            "   5\n",
            "   7\n",
            "\n",
            "x =\n",
            "\n",
            "   6.7027\n",
            "   5.2162\n",
            "   4.5135\n",
            "   5.9189\n",
            "\n",
            "s1 =\n",
            "\n",
            "     248/37\n",
            "     193/37\n",
            "     167/37\n",
            "     219/37\n",
            "\n"
          ]
        }
      ]
    },
    {
      "cell_type": "markdown",
      "source": [
        "## Método 2"
      ],
      "metadata": {
        "id": "ZpqGyD5xUGcm"
      }
    },
    {
      "cell_type": "code",
      "source": [
        "%%writefile tercero.m\n",
        "A = [1 3 -1 -2; -5 -1 4 4; 1 -4 -1 4; 1 4 2 -5]\n",
        "b = [6; 3; 5; 7]\n",
        "x = A\\b\n",
        "% solución 3 \n",
        "s3 = rats(x)"
      ],
      "metadata": {
        "colab": {
          "base_uri": "https://localhost:8080/"
        },
        "id": "KoOdifCOU8io",
        "outputId": "6964e0a6-fcb7-4c12-ba9b-339842dded16"
      },
      "execution_count": null,
      "outputs": [
        {
          "output_type": "stream",
          "name": "stdout",
          "text": [
            "Writing tercero.m\n"
          ]
        }
      ]
    },
    {
      "cell_type": "code",
      "source": [
        "!octave tercero.m"
      ],
      "metadata": {
        "colab": {
          "base_uri": "https://localhost:8080/"
        },
        "id": "XL3f3VBGVO0G",
        "outputId": "9e44d39c-aa6b-446d-f15b-8418545bc9a1"
      },
      "execution_count": null,
      "outputs": [
        {
          "output_type": "stream",
          "name": "stdout",
          "text": [
            "octave: X11 DISPLAY environment variable not set\n",
            "octave: disabling GUI features\n",
            "A =\n",
            "\n",
            "   1   3  -1  -2\n",
            "  -5  -1   4   4\n",
            "   1  -4  -1   4\n",
            "   1   4   2  -5\n",
            "\n",
            "b =\n",
            "\n",
            "   6\n",
            "   3\n",
            "   5\n",
            "   7\n",
            "\n",
            "x =\n",
            "\n",
            "   6.7027\n",
            "   5.2162\n",
            "   4.5135\n",
            "   5.9189\n",
            "\n",
            "s3 =\n",
            "\n",
            "     248/37\n",
            "     193/37\n",
            "     167/37\n",
            "     219/37\n",
            "\n"
          ]
        }
      ]
    },
    {
      "cell_type": "markdown",
      "source": [
        "- La solución redondeada tanto en el primer caso como en el segundo caso es $ (7 , 5 , 5 , 6)$. \n",
        "Y efectivamente las soluciones sí coinciden en ambos casos"
      ],
      "metadata": {
        "id": "dDXsZMQTWAyO"
      }
    },
    {
      "cell_type": "markdown",
      "source": [
        "## Práctica 3.7\n",
        "**Diagonalización en Python**\n",
        "\n",
        "* Sea la matriz cuadrada $A$ de orden 4x4\n",
        "\n",
        "$$A=\\left(\n",
        "\\begin{array}{rrrr}\n",
        " -1 &-2 &  3 &-1 \\\\\n",
        "  0 & 2 &  0 & 0 \\\\\n",
        "  0 & 0 &  2 & 0 \\\\\n",
        "  0 & 0 &  0 & 1\n",
        "\\end{array}\n",
        "\\right)$$\n",
        "1. Calcula los **autovalores** y **autovectores**\n",
        "2. Calcula y muestra:\n",
        " - la matriz diagonal $D$\n",
        " - la matriz de paso $P$\n",
        " - su inversa $P^{-1}$  \n",
        "3. Comprueba que se cumple que $A^3=PD^3P^{-1}$"
      ],
      "metadata": {
        "id": "KOhR4DdkL7kg"
      }
    },
    {
      "cell_type": "markdown",
      "source": [
        "## Solución 3.7\n",
        "\n",
        "Con la librería ````Numpy```` obtenemos las matrices P y D y los autovalores y autovectores"
      ],
      "metadata": {
        "id": "bSqbF2I6eU-Z"
      }
    },
    {
      "cell_type": "code",
      "source": [
        "import numpy as np\n",
        "A = np.array([[-1,-2,3,-1], [0,2,0,0], [0,0,2,0], [0,0,0,1]])\n",
        "d,P = np.linalg.eig(A)\n",
        "print(\"d: \", d)\n",
        "D = np.diag(d)\n",
        "print(\"\\nD:\\n\", D)\n",
        "print(\"\\nP:\\n\", P)"
      ],
      "metadata": {
        "colab": {
          "base_uri": "https://localhost:8080/"
        },
        "id": "ChaCU9KXZmzT",
        "outputId": "ec2333cc-31fd-4f74-f7f3-17cc84a8b455"
      },
      "execution_count": null,
      "outputs": [
        {
          "output_type": "stream",
          "name": "stdout",
          "text": [
            "d:  [-1.  2.  2.  1.]\n",
            "\n",
            "D:\n",
            " [[-1.  0.  0.  0.]\n",
            " [ 0.  2.  0.  0.]\n",
            " [ 0.  0.  2.  0.]\n",
            " [ 0.  0.  0.  1.]]\n",
            "\n",
            "P:\n",
            " [[ 1.         -0.5547002   0.70710678 -0.4472136 ]\n",
            " [ 0.          0.83205029  0.          0.        ]\n",
            " [ 0.          0.          0.70710678  0.        ]\n",
            " [ 0.          0.          0.          0.89442719]]\n"
          ]
        }
      ]
    },
    {
      "cell_type": "markdown",
      "source": [
        "## Utilizamos la librería ````Sympy```` que muestra más clara la matriz P y D "
      ],
      "metadata": {
        "id": "z8-dpa5VdaJU"
      }
    },
    {
      "cell_type": "code",
      "source": [
        "from sympy import Matrix\n",
        "A = Matrix([[-1,-2,3,-1], [0,2,0,0], [0,0,2,0], [0,0,0,1]])\n",
        "P, D = A.diagonalize()\n",
        "D"
      ],
      "metadata": {
        "colab": {
          "base_uri": "https://localhost:8080/",
          "height": 98
        },
        "id": "IubfvfJYX8XR",
        "outputId": "7f556478-0566-4698-ad52-cc7824c36269"
      },
      "execution_count": null,
      "outputs": [
        {
          "output_type": "execute_result",
          "data": {
            "text/plain": [
              "Matrix([\n",
              "[-1, 0, 0, 0],\n",
              "[ 0, 1, 0, 0],\n",
              "[ 0, 0, 2, 0],\n",
              "[ 0, 0, 0, 2]])"
            ],
            "text/latex": "$\\displaystyle \\left[\\begin{matrix}-1 & 0 & 0 & 0\\\\0 & 1 & 0 & 0\\\\0 & 0 & 2 & 0\\\\0 & 0 & 0 & 2\\end{matrix}\\right]$"
          },
          "metadata": {},
          "execution_count": 152
        }
      ]
    },
    {
      "cell_type": "code",
      "source": [
        "P"
      ],
      "metadata": {
        "colab": {
          "base_uri": "https://localhost:8080/",
          "height": 98
        },
        "id": "8kOOtAJKYXc6",
        "outputId": "5bf8c364-ee4a-4014-c4fb-b4462c8d7cae"
      },
      "execution_count": null,
      "outputs": [
        {
          "output_type": "execute_result",
          "data": {
            "text/plain": [
              "Matrix([\n",
              "[1, -1, -2, 1],\n",
              "[0,  0,  3, 0],\n",
              "[0,  0,  0, 1],\n",
              "[0,  2,  0, 0]])"
            ],
            "text/latex": "$\\displaystyle \\left[\\begin{matrix}1 & -1 & -2 & 1\\\\0 & 0 & 3 & 0\\\\0 & 0 & 0 & 1\\\\0 & 2 & 0 & 0\\end{matrix}\\right]$"
          },
          "metadata": {},
          "execution_count": 153
        }
      ]
    },
    {
      "cell_type": "markdown",
      "source": [
        "## Calculamos $A^3$"
      ],
      "metadata": {
        "id": "hpVUan0scskr"
      }
    },
    {
      "cell_type": "code",
      "source": [
        "import numpy as np\n",
        "A = np.array([[-1,-2,3,-1], [0,2,0,0], [0,0,2,0], [0,0,0,1]])\n",
        "print(A@A@A)"
      ],
      "metadata": {
        "colab": {
          "base_uri": "https://localhost:8080/"
        },
        "id": "_4U3yD_MbhBS",
        "outputId": "465a6491-a147-4770-8ccb-35578785ff8d"
      },
      "execution_count": null,
      "outputs": [
        {
          "output_type": "stream",
          "name": "stdout",
          "text": [
            "[[-1 -6  9 -1]\n",
            " [ 0  8  0  0]\n",
            " [ 0  0  8  0]\n",
            " [ 0  0  0  1]]\n"
          ]
        }
      ]
    },
    {
      "cell_type": "markdown",
      "source": [
        "## Y calculamos $PD^3P^{-1}$ "
      ],
      "metadata": {
        "id": "I4m08gREc7Ae"
      }
    },
    {
      "cell_type": "code",
      "source": [
        "import numpy as np\n",
        "A = np.array([[-1,-2,3,-1], [0,2,0,0], [0,0,2,0], [0,0,0,1]])\n",
        "d,P = np.linalg.eig(A)\n",
        "print(\"d: \", d)\n",
        "D = np.diag(d)\n",
        "print(\"\\nD:\\n\", D)\n",
        "print(\"\\nP:\\n\", P)\n",
        "Dcubo = D @ D @ D\n",
        "print(\"\\nDcubo:\\n\", Dcubo)\n",
        "print(\"\\nSolución:\\n\", P @ Dcubo @ np.linalg.inv(P))"
      ],
      "metadata": {
        "colab": {
          "base_uri": "https://localhost:8080/"
        },
        "id": "vRPGrZtqcVoA",
        "outputId": "bb651f4b-2f20-4864-bc22-01433ab969d6"
      },
      "execution_count": null,
      "outputs": [
        {
          "output_type": "stream",
          "name": "stdout",
          "text": [
            "d:  [-1.  2.  2.  1.]\n",
            "\n",
            "D:\n",
            " [[-1.  0.  0.  0.]\n",
            " [ 0.  2.  0.  0.]\n",
            " [ 0.  0.  2.  0.]\n",
            " [ 0.  0.  0.  1.]]\n",
            "\n",
            "P:\n",
            " [[ 1.         -0.5547002   0.70710678 -0.4472136 ]\n",
            " [ 0.          0.83205029  0.          0.        ]\n",
            " [ 0.          0.          0.70710678  0.        ]\n",
            " [ 0.          0.          0.          0.89442719]]\n",
            "\n",
            "Dcubo:\n",
            " [[-1.  0.  0.  0.]\n",
            " [ 0.  8.  0.  0.]\n",
            " [ 0.  0.  8.  0.]\n",
            " [ 0.  0.  0.  1.]]\n",
            "\n",
            "Solución:\n",
            " [[-1. -6.  9. -1.]\n",
            " [ 0.  8.  0.  0.]\n",
            " [ 0.  0.  8.  0.]\n",
            " [ 0.  0.  0.  1.]]\n"
          ]
        }
      ]
    },
    {
      "cell_type": "markdown",
      "source": [
        "- ### Como podemos observar, la igualdad se cumple."
      ],
      "metadata": {
        "id": "VQHLCr7XdG7x"
      }
    },
    {
      "cell_type": "markdown",
      "source": [
        "## Práctica 3.8\n",
        "**Diagonalización con Octave**\n",
        "\n",
        "Resuelva el ejercicio anterior, pero en esta ocasión utilizando Octave."
      ],
      "metadata": {
        "id": "tqHIq-of_N_v"
      }
    },
    {
      "cell_type": "markdown",
      "source": [
        "## Solución 3.8"
      ],
      "metadata": {
        "id": "gj9p6GisseCr"
      }
    },
    {
      "cell_type": "code",
      "source": [
        "%%writefile diagonaliza.m\n",
        "A = [-1,-2,3,-1; 0,2,0,0; 0,0,2,0; 0,0,0,1]\n",
        "[P,D]=eig(A)\n",
        "Dcubo = D^3\n",
        "Acubo = A^3\n",
        "PxDcuboXPinv = P*Dcubo*P^-1"
      ],
      "metadata": {
        "colab": {
          "base_uri": "https://localhost:8080/"
        },
        "id": "ZP1brc3bmK-g",
        "outputId": "6c1a2a0e-5f86-4331-b811-632d096c89dd"
      },
      "execution_count": null,
      "outputs": [
        {
          "output_type": "stream",
          "name": "stdout",
          "text": [
            "Overwriting diagonaliza.m\n"
          ]
        }
      ]
    },
    {
      "cell_type": "code",
      "source": [
        "!octave diagonaliza.m\n"
      ],
      "metadata": {
        "colab": {
          "base_uri": "https://localhost:8080/"
        },
        "id": "ghkqi7aQmQG5",
        "outputId": "d1d23dba-489f-48b0-aa2f-31ab1e637688"
      },
      "execution_count": null,
      "outputs": [
        {
          "output_type": "stream",
          "name": "stdout",
          "text": [
            "octave: X11 DISPLAY environment variable not set\n",
            "octave: disabling GUI features\n",
            "A =\n",
            "\n",
            "  -1  -2   3  -1\n",
            "   0   2   0   0\n",
            "   0   0   2   0\n",
            "   0   0   0   1\n",
            "\n",
            "P =\n",
            "\n",
            "   1.00000  -0.55470   0.70711  -0.44721\n",
            "   0.00000   0.83205   0.00000   0.00000\n",
            "   0.00000   0.00000   0.70711   0.00000\n",
            "   0.00000   0.00000   0.00000   0.89443\n",
            "\n",
            "D =\n",
            "\n",
            "Diagonal Matrix\n",
            "\n",
            "  -1   0   0   0\n",
            "   0   2   0   0\n",
            "   0   0   2   0\n",
            "   0   0   0   1\n",
            "\n",
            "Dcubo =\n",
            "\n",
            "Diagonal Matrix\n",
            "\n",
            "  -1   0   0   0\n",
            "   0   8   0   0\n",
            "   0   0   8   0\n",
            "   0   0   0   1\n",
            "\n",
            "Acubo =\n",
            "\n",
            "  -1  -6   9  -1\n",
            "   0   8   0   0\n",
            "   0   0   8   0\n",
            "   0   0   0   1\n",
            "\n",
            "PxDcuboXPinv =\n",
            "\n",
            "  -1  -6   9  -1\n",
            "   0   8   0   0\n",
            "   0   0   8   0\n",
            "   0   0   0   1\n",
            "\n"
          ]
        }
      ]
    },
    {
      "cell_type": "markdown",
      "source": [
        "## Práctica 3.9\n",
        "**Libertad para elegir el lugar de trabajo**  \n",
        "Resolver con **Octave**.\n",
        "\n",
        "Una empresa de 1.000 empleados permite que sus trabajadores cada día acudan a trabajar a la oficina o que realicen su trabajo desde su casa. Inicialmente el 90% de la plantilla trabajaba en la oficina y solo el 10% lo hacían en casa. Se ha observado que los que un día trabajan en casa tienen una probabilidad del 70% de realizarlo también desde casa al día siguiente, pero que en el restante 30% de los casos acuden a la oficina al día siguiente. Por el contrario, se ha observado que los que un día trabajaron en la oficina al día siguiente vuelven\n",
        "a la oficina en el 60% de los casos y en el 40% restante van a su casa al día siguiente.\n",
        "* Determinar qué número de empleados se quedan en casa transcurridos dos días.\n",
        "* ¿Y a largo plazo cuantos se quedan en casa?"
      ],
      "metadata": {
        "id": "Aw283nkjdtcQ"
      }
    },
    {
      "cell_type": "markdown",
      "source": [
        "## Solución 3.9"
      ],
      "metadata": {
        "id": "CowLDn_lsWW9"
      }
    },
    {
      "cell_type": "code",
      "source": [
        "%%writefile proceso.m\n",
        "empleados = 1000\n",
        "% state vector\n",
        "inicial = [.9; .1]\n",
        "% transition probability matrix\n",
        "A = [.6, .3; .4, .7]\n",
        "[P,D]=eig(A)\n",
        "Dcuadrado = D^2\n",
        "Acuadrado = A^2\n",
        "PxDcuadradoXPinv = P*Dcuadrado*P^-1\n",
        "dia2 = Acuadrado * inicial\n",
        "disp(\"Nº de empleados que se quedan en casa el segundo día: \"), disp(dia2(2)*empleados)\n",
        "D10 = D^10\n",
        "A10 = P*D10*P^-1\n",
        "dia10 = A10 * inicial\n",
        "disp(\"Nº de empleados que se quedan en casa a largo plazo son: \"), disp(dia10(2)*empleados)"
      ],
      "metadata": {
        "colab": {
          "base_uri": "https://localhost:8080/"
        },
        "id": "rHRPaCXlow6e",
        "outputId": "d18883ff-d86b-4632-ba80-51afd0f0e186"
      },
      "execution_count": null,
      "outputs": [
        {
          "output_type": "stream",
          "name": "stdout",
          "text": [
            "Writing proceso.m\n"
          ]
        }
      ]
    },
    {
      "cell_type": "code",
      "source": [
        "!octave proceso.m\n"
      ],
      "metadata": {
        "colab": {
          "base_uri": "https://localhost:8080/"
        },
        "id": "LZUSzTYNo6bc",
        "outputId": "e9af38af-b046-4602-fba7-625673625039"
      },
      "execution_count": null,
      "outputs": [
        {
          "output_type": "stream",
          "name": "stdout",
          "text": [
            "octave: X11 DISPLAY environment variable not set\n",
            "octave: disabling GUI features\n",
            "empleados =  1000\n",
            "inicial =\n",
            "\n",
            "   0.90000\n",
            "   0.10000\n",
            "\n",
            "A =\n",
            "\n",
            "   0.60000   0.30000\n",
            "   0.40000   0.70000\n",
            "\n",
            "P =\n",
            "\n",
            "  -0.70711  -0.60000\n",
            "   0.70711  -0.80000\n",
            "\n",
            "D =\n",
            "\n",
            "Diagonal Matrix\n",
            "\n",
            "   0.30000         0\n",
            "         0   1.00000\n",
            "\n",
            "Dcuadrado =\n",
            "\n",
            "Diagonal Matrix\n",
            "\n",
            "   0.090000          0\n",
            "          0   1.000000\n",
            "\n",
            "Acuadrado =\n",
            "\n",
            "   0.48000   0.39000\n",
            "   0.52000   0.61000\n",
            "\n",
            "PxDcuadradoXPinv =\n",
            "\n",
            "   0.48000   0.39000\n",
            "   0.52000   0.61000\n",
            "\n",
            "dia2 =\n",
            "\n",
            "   0.47100\n",
            "   0.52900\n",
            "\n",
            "Nº de empleados que se quedan en casa el segundo día: \n",
            " 529\n",
            "D10 =\n",
            "\n",
            "Diagonal Matrix\n",
            "\n",
            "   5.9049e-06            0\n",
            "            0   1.0000e+00\n",
            "\n",
            "A10 =\n",
            "\n",
            "   0.42857   0.42857\n",
            "   0.57143   0.57143\n",
            "\n",
            "dia10 =\n",
            "\n",
            "   0.42857\n",
            "   0.57143\n",
            "\n",
            "Nº de empleados que se quedan en casa a largo plazo son: \n",
            " 571.43\n"
          ]
        }
      ]
    },
    {
      "cell_type": "markdown",
      "source": [
        "### - Al transcurrir dos días, el número de trabajadores que se quedan en casa será de 529.\n",
        "### - La tendencia de trabajadores que deciden trabajar en casa es de 571.43 trabajadores"
      ],
      "metadata": {
        "id": "nV7ljX9JpFxg"
      }
    },
    {
      "cell_type": "markdown",
      "source": [
        "## Práctica 3.10\n",
        "**Tendencia del mercado**  \n",
        "Resolver con **Python**.\n",
        "\n",
        "En el mercado de automóviles de gran lujo únicamente se disputan la clientela dos marcas (A y B). Las ventas son $M=100.000$ automóviles anuales, no variando esta cifra con el transcurso de los años. La marca A es líder de mercado en este momento con el 75% de las ventas. Sus directivos desean consolidar su liderazgo e incluso aumentarlo, para lo cual todos los años efectúan una fuerte campaña publicitaria con la que consiguen cada año un 40% de los que fueron clientes de su competidora, aunque la empresa A pierde un 20% de sus clientes que se van a la competencia.\n",
        "* ¿Cuál es la situación a los 3 años?\n",
        "* ¿Y al cabo de mucho tiempo?"
      ],
      "metadata": {
        "id": "lllngWn__QP0"
      }
    },
    {
      "cell_type": "markdown",
      "source": [
        "## Solución 3.10"
      ],
      "metadata": {
        "id": "Dj8lwAf3sOa9"
      }
    },
    {
      "cell_type": "code",
      "source": [
        "import numpy as np\n",
        "\n",
        "X0 = np.array([.75, .25])\n",
        "A = np.array([[.8, .4], [.2 ,.6]])\n",
        "X3 = A@A@A@X0\n",
        "print(\"Situación a los tres años:\", X3)\n",
        "\n",
        "d,P = np.linalg.eig(A)\n",
        "D = np.diag(d)\n",
        "Pinv = np.linalg.inv(P)\n",
        "A10 = P@(D**10)@Pinv\n",
        "X10 = A10@X0\n",
        "print(\"Situación a los diez años:\", X10)\n",
        "print(\"Situación a los veinte años:\", P@(D**20)@Pinv@X0)"
      ],
      "metadata": {
        "colab": {
          "base_uri": "https://localhost:8080/"
        },
        "id": "Cx1NYjHvqLWu",
        "outputId": "60f7348a-622c-407f-816b-3a9533cb257a"
      },
      "execution_count": null,
      "outputs": [
        {
          "output_type": "stream",
          "name": "stdout",
          "text": [
            "Situación a los tres años: [0.672 0.328]\n",
            "Situación a los diez años: [0.6666754 0.3333246]\n",
            "Situación a los veinte años: [0.66666667 0.33333333]\n"
          ]
        }
      ]
    },
    {
      "cell_type": "markdown",
      "source": [
        "### - La situación del mercado al cabo de **3 años** es la siguiente: 67,2% una empresa y 32,8% la otra empresa.\n",
        "### - La situación a los **10 años** :Una empresa obtiene el 66,67% del mercado y su competencia 33,33%\n",
        "### - Finalmente al cabo de **20 años**, la clientela se ha estabilizado manteniendo valores iguales a los de la situación de hace 10 años."
      ],
      "metadata": {
        "id": "GCicv7j1qYQS"
      }
    }
  ]
}
