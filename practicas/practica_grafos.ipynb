{
  "nbformat": 4,
  "nbformat_minor": 0,
  "metadata": {
    "colab": {
      "provenance": [],
      "include_colab_link": true
    },
    "kernelspec": {
      "name": "python3",
      "display_name": "Python 3"
    },
    "language_info": {
      "name": "python"
    }
  },
  "cells": [
    {
      "cell_type": "markdown",
      "metadata": {
        "id": "view-in-github",
        "colab_type": "text"
      },
      "source": [
        "<a href=\"https://colab.research.google.com/github/adrianprogrammer15/math/blob/main/practicas/practica_grafos.ipynb\" target=\"_parent\"><img src=\"https://colab.research.google.com/assets/colab-badge.svg\" alt=\"Open In Colab\"/></a>"
      ]
    },
    {
      "cell_type": "markdown",
      "source": [
        "# Práctica 2. Grafos"
      ],
      "metadata": {
        "id": "s28_pETXts4V"
      }
    },
    {
      "cell_type": "markdown",
      "source": [
        "## Práctica 2.1\n",
        "**Algoritmo de Dijkstra**\n",
        "\n",
        "1. Mira estos vídeos:\n",
        " * [Algoritmo de DIJKSTRA ruta corta](https://youtu.be/6rl0ghgPfK0)\n",
        " * [Ruta mas corta en una red, algoritmo de Dijkstra](https://youtu.be/rh02c7v3EKY)\n",
        "2. ¿Qué utilidad tiene el algoritmo?\n",
        "3. Explique el algoritmo.\n",
        "4. De un ejemplo de un grafo resuelto con el algoritmo de Dijkstra.\n",
        "* Muestre la imagen del grafo con sus:\n",
        "  - nodos\n",
        "  - aristas (con flecha si son orientadas)\n",
        "  - pesos (distancias o costes)\n",
        "* Muestre nuevamente la imagen del grafo pero en esta ocasión con la solución."
      ],
      "metadata": {
        "id": "6Gr8mAWDxCdq"
      }
    },
    {
      "cell_type": "markdown",
      "source": [
        "### Solución 2.1  \n",
        "**2. ¿Qué utilidad tiene el algoritmo?**  \n",
        "Este algoritmo nos facilita la búsqueda del camino más cercano entre un nodo inicial, hasta cualquiera de los nodos que conforman el grafo.  \n",
        "Entre sus múltiples aplicaciones al mundo real, podríamos destacar la logística, algo muy útil para ahorrar tiempo y entregar paquetes por el camino más corto.  \n",
        "**3. Explique el algoritmo**  \n",
        "El procedimiento del Algoritmo de Dijkstra es el siguiente:  \n",
        "**4. De un ejemplo de un grafo resuelto con el algoritmo de Dijkstra.**\n",
        "* Muestre la imagen del grafo con sus:\n",
        "  - nodos\n",
        "  - aristas (con flecha si son orientadas)\n",
        "  - pesos (distancias o costes)    \n",
        "\n",
        "  <img src=\"https://1.bp.blogspot.com/-9PqQ5RGbgFc/Xj_4DL9kzgI/AAAAAAAACBE/-iu7O2nXjJsn2Wz7GkwGELzlnK6MFdOIwCLcBGAsYHQ/s1600/grafoponderado.jpg\" width=\"450\"/>   \n",
        "  - El grafo que planteo es un mapa ferroviario que conecta las ciudades más importantes de España. Quiero hacer un viaje desde **Oviedo** hasta **Cádiz**, y me gustaría saber cúal es el trayecto más corto para llegar lo antes posible.  \n",
        "  * Muestre nuevamente la imagen del grafo pero en esta ocasión con la solución:\n",
        "  <img src=\"https://140755812-337623035608644402.preview.editmysite.com/uploads/1/4/0/7/140755812/captura-de-pantalla-20221102-163227-1_orig.jpg\" width=\"50000\"/>\n"
      ],
      "metadata": {
        "id": "rR_JLZQPdv3V"
      }
    },
    {
      "cell_type": "markdown",
      "source": [
        "## Práctica 2.2\n",
        "Vea el video:\n",
        "\n",
        "* [Camino mas corto Solver](https://youtu.be/LYeMWlTfOgA)\n",
        "\n",
        "Se pide:  \n",
        "1. Replique en un archivo de Excel el caso del vídeo, en la Hoja 1. En el método de resolución de Solver elija el método Simplex.\n",
        "2. En la Hoja 2, aplique esa metodología usando Solver a otro grafo de su invención. Dibuje el grafo, con sus nodos, flechas y pesos, y resuélvalo.\n",
        "3. Suba el archivo de Excel creado a la tarea del Aula Virtual."
      ],
      "metadata": {
        "id": "In4IULDcx1Az"
      }
    },
    {
      "cell_type": "markdown",
      "source": [
        "## Práctica 2.3\n",
        "1. Muestre el enlace a alguna página donde se de el algoritmo de Dijkstra programado en **Python**.\n",
        "2. Pruebe su código con algún grafo de ejemplo."
      ],
      "metadata": {
        "id": "Dp_Eb4ORzqg4"
      }
    },
    {
      "cell_type": "markdown",
      "source": [
        "<img src=\"https://www.techiedelight.com/wp-content/uploads/2016/11/Dijkstras-7.png\" weidth=\"450\" />  \n",
        "https://www.techiedelight.com/es/single-source-shortest-paths-dijkstras-algorithm/"
      ],
      "metadata": {
        "id": "ea4MskqXorwq"
      }
    },
    {
      "cell_type": "code",
      "source": [
        "import sys\n",
        "from heapq import heappop, heappush\n",
        " \n",
        " \n",
        "# Una clase para almacenar un nodo de heap\n",
        "class Node:\n",
        "    def __init__(self, vertex, weight=0):\n",
        "        self.vertex = vertex\n",
        "        self.weight = weight\n",
        " \n",
        "    # Anule la función __lt__() para hacer que la clase `Node` funcione con un min-heap\n",
        "    def __lt__(self, other):\n",
        "        return self.weight < other.weight\n",
        " \n",
        " \n",
        "# Una clase para representar un objeto graph\n",
        "class Graph:\n",
        "    def __init__(self, edges, n):\n",
        "        # asigna memoria para la lista de adyacencia\n",
        "        self.adjList = [[] for _ in range(n)]\n",
        " \n",
        "        # agrega bordes al graph dirigido\n",
        "        for (source, dest, weight) in edges:\n",
        "            self.adjList[source].append((dest, weight))\n",
        " \n",
        " \n",
        "def get_route(prev, i, route):\n",
        "    if i >= 0:\n",
        "        get_route(prev, prev[i], route)\n",
        "        route.append(i)\n",
        " \n",
        " \n",
        "# Ejecutar el algoritmo de Dijkstra en un graph dado\n",
        "def findShortestPaths(graph, source, n):\n",
        " \n",
        "    # crea un min-heap y empuja el nodo de origen con una distancia de 0\n",
        "    pq = []\n",
        "    heappush(pq, Node(source))\n",
        " \n",
        "    # establece la distancia inicial desde la fuente a `v` como infinito\n",
        "    dist = [sys.maxsize] * n\n",
        " \n",
        "    # distancia de la fuente a sí mismo es cero\n",
        "    dist[source] = 0\n",
        " \n",
        "    # Lista # para rastrear vértices para los cuales ya se encontró el costo mínimo\n",
        "    done = [False] * n\n",
        "    done[source] = True\n",
        " \n",
        "    # almacena el predecesor de un vértice (en una ruta de impresión)\n",
        "    prev = [-1] * n\n",
        " \n",
        "    # se ejecuta hasta que el min-heap esté vacío\n",
        "    while pq:\n",
        " \n",
        "        node = heappop(pq)      # Quitar y devolver el mejor vértice\n",
        "        u = node.vertex         # obtener el número de vértice\n",
        " \n",
        "        # hacer para cada vecino `v` de `u`\n",
        "        for (v, weight) in graph.adjList[u]:\n",
        "            if not done[v] and (dist[u] + weight) < dist[v]:        # Escalón de relajación\n",
        "                dist[v] = dist[u] + weight\n",
        "                prev[v] = u\n",
        "                heappush(pq, Node(v, dist[v]))\n",
        " \n",
        "        # marca el vértice `u` como hecho para que no se vuelva a recoger\n",
        "        done[u] = True\n",
        " \n",
        "    route = []\n",
        "    for i in range(n):\n",
        "        if i != source and dist[i] != sys.maxsize:\n",
        "            get_route(prev, i, route)\n",
        "            print(f'Path ({source} —> {i}): Minimum cost = {dist[i]}, Route = {route}')\n",
        "            route.clear()\n",
        " \n",
        " \n",
        "if __name__ == '__main__':\n",
        " \n",
        "    # inicializa los bordes según el diagrama anterior\n",
        "    # (u, v, w) representa la arista del vértice `u` al vértice `v` con peso `w`\n",
        "    edges = [(0, 1, 10), (0, 4, 3), (1, 2, 2), (1, 4, 4), (2, 3, 9), (3, 2, 7),\n",
        "            (4, 1, 1), (4, 2, 8), (4, 3, 2)]\n",
        " \n",
        "    # número total de nodos en el graph (etiquetados de 0 a 4)\n",
        "    n = 5\n",
        " \n",
        "    # graph de construcción\n",
        "    graph = Graph(edges, n)\n",
        " \n",
        "    # ejecuta el algoritmo de Dijkstra desde cada nodo\n",
        "    for source in range(n):\n",
        "        findShortestPaths(graph, source, n)\n",
        "        "
      ],
      "metadata": {
        "id": "eXWHuE-4n_Rt",
        "outputId": "5f9c61a3-700d-44df-f5b0-ac7f341d8d4b",
        "colab": {
          "base_uri": "https://localhost:8080/"
        }
      },
      "execution_count": null,
      "outputs": [
        {
          "output_type": "stream",
          "name": "stdout",
          "text": [
            "Path (0 —> 1): Minimum cost = 4, Route = [0, 4, 1]\n",
            "Path (0 —> 2): Minimum cost = 6, Route = [0, 4, 1, 2]\n",
            "Path (0 —> 3): Minimum cost = 5, Route = [0, 4, 3]\n",
            "Path (0 —> 4): Minimum cost = 3, Route = [0, 4]\n",
            "Path (1 —> 2): Minimum cost = 2, Route = [1, 2]\n",
            "Path (1 —> 3): Minimum cost = 6, Route = [1, 4, 3]\n",
            "Path (1 —> 4): Minimum cost = 4, Route = [1, 4]\n",
            "Path (2 —> 3): Minimum cost = 9, Route = [2, 3]\n",
            "Path (3 —> 2): Minimum cost = 7, Route = [3, 2]\n",
            "Path (4 —> 1): Minimum cost = 1, Route = [4, 1]\n",
            "Path (4 —> 2): Minimum cost = 3, Route = [4, 1, 2]\n",
            "Path (4 —> 3): Minimum cost = 2, Route = [4, 3]\n"
          ]
        }
      ]
    },
    {
      "cell_type": "code",
      "source": [
        "import dijkstra # Import the module\n",
        "\n",
        "# Weighted adjacency matrix\n",
        "wmat = [[0, 2, 0, 0, 0, 1, 0, 0],\n",
        "        [2, 0, 2, 2, 4, 0, 0, 0],\n",
        "        [0, 2, 0, 0, 3, 0, 0, 1],\n",
        "        [0, 2, 0, 0, 4, 3, 0, 0],\n",
        "        [0, 4, 3, 4, 0, 0, 7, 0],\n",
        "        [1, 0, 0, 3, 0, 0, 5, 0],\n",
        "        [0, 0, 0, 0, 7, 5, 0, 6],\n",
        "        [0, 0, 1, 0, 0, 0, 6, 0]]\n",
        "\n",
        "print(dijkstra.find_all(wmat, 0))"
      ],
      "metadata": {
        "id": "jX-7Q8fvrEj5"
      },
      "execution_count": null,
      "outputs": []
    },
    {
      "cell_type": "markdown",
      "source": [
        "## Práctica 2.4\n",
        "* Dibuja un grafo que tenga un mínimo de 6 nodos\n",
        "* Crea en **Python** su **matriz de adyacencia**\n",
        "* Crea en Python su **lista de adyacencia**\n",
        "* ¿Son cero todos los elementos de la diagonal principal?\n",
        " - En qué caso serían todos cero y en qué caso no.\n",
        "* ¿Es una matriz simétrica?\n",
        " - En qué caso sería simétrica y en qué caso no.\n",
        "* Usando Python, suma todos los valores de la matriz\n",
        "* Comprueba si funcionan bien o no los siguientes códigos:\n",
        " - El primero permite convertir una matriz de adyacencia en una lista de adyacencia.\n",
        " - El segundo permite convertir una lista de adyacencia en una matriz de adyacencia.\n",
        "* Dibuja el grafo del ejemplo que se usa en este código."
      ],
      "metadata": {
        "id": "r8s1WapAnHlw"
      }
    },
    {
      "cell_type": "markdown",
      "source": [
        "### Solución 2.4\n",
        "\n",
        "\n",
        "* Dibuja un grafo que tenga un mínimo de 6 nodos  \n",
        "\n",
        "<image src= \"https://adanielehuelenlospies.weebly.com/uploads/1/4/0/7/140755812/esto_orig.png\" width=\"650\" />    \n",
        "\n",
        "* Crea en **Python** su **matriz de adyacencia**\n"
      ],
      "metadata": {
        "id": "rkYAJajAEkW1"
      }
    },
    {
      "cell_type": "code",
      "source": [
        "def convert_to_adjacency(matrix):\n",
        "    start = 0\n",
        "    res = []\n",
        "    lst = []\n",
        "    n = len(matrix)\n",
        "    for i in range(n):\n",
        "        res.append(lst*n)\n",
        "    while start < n:\n",
        "        y = matrix[start]\n",
        "        for i in range(len(y)):\n",
        "            if y[i]==1:\n",
        "                res[start].append(i)\n",
        "        start +=1\n",
        "    return res \n",
        "matrix =[[0,1,1,0,0,0],[1,0,1,1,0,0],[1,1,0,1,1,0],[0,1,1,0,1,1],[0,0,1,1,0,1],[0,0,0,1,1,0]]\n",
        "print(convert_to_adjacency(matrix))"
      ],
      "metadata": {
        "id": "qNO8_BGCDdBq"
      },
      "execution_count": null,
      "outputs": []
    },
    {
      "cell_type": "markdown",
      "source": [
        "* Crea en Python su **lista de adyacencia**\n",
        "\n",
        "\n",
        "\n"
      ],
      "metadata": {
        "id": "GlsFiTBZGpvm"
      }
    },
    {
      "cell_type": "code",
      "source": [
        "def convert_to_matrix(graph):\n",
        "    matrix =[]\n",
        "    for i in range(len(graph)): \n",
        "        matrix.append([0]*len(graph))\n",
        "        for j in graph[i]:\n",
        "            matrix[i][j]=1\n",
        "    return matrix\n",
        "\n",
        "lst =[[1, 2], [0, 2, 3], [0, 1, 3, 4], [1, 2, 4, 5], [2, 3, 5], [3, 4]]\n",
        "print(convert_to_matrix(lst))"
      ],
      "metadata": {
        "id": "uXWN5gGwGe1a"
      },
      "execution_count": null,
      "outputs": []
    },
    {
      "cell_type": "markdown",
      "source": [
        "* **¿Son cero todos los elementos de la diagonal principal?**  \n",
        "Sí, se puede ver en la matriz de adyacencia que los la diagonal principal está compuesta por ceros.\n",
        " - **En qué caso serían todos cero y en qué caso no.**  \n",
        " En el caso de que la diagonal estuviera formada de ceros estaríamos ante una matriz simple, ya que un vértice A conecta con un vértice B, no consigo mismo. En el caso de que hubiese algún cero en esta diagonal, nos daríamos cuenta de que el grafo cuenta con bucles, el vértice A ahora sí conecta consigo mismo, apareciendo reflejado este valor en la matriz de adyacencia.\n",
        "\n"
      ],
      "metadata": {
        "id": "DbYEJ9LcG3ou"
      }
    },
    {
      "cell_type": "markdown",
      "source": [
        " **¿Es una matriz simétrica?**  \n",
        " Sí.  \n",
        "\n",
        "**- En qué caso sería simétrica y en qué caso no.**  \n",
        "Aplicando las propiedades de las matrices: Una matriz es simétrica, cuando el número de filas y de columnas coincide (matriz cuadrada), y la matriz original es igual a su traspuesta. Por el contrario, una matriz es antisimétrica, si su traspuesta es igual a la opuesta de la matriz original. $$A^T=-A$$  \n",
        "Es imposible que la matriz de adyacencia de un grafo no cumpla las condiciones que presentan las matrices simétricas, puesto que en ellas no se trabajan números negativos.\n",
        " "
      ],
      "metadata": {
        "id": "sJlIkuh9Jqom"
      }
    },
    {
      "cell_type": "markdown",
      "source": [
        "**Usando Python, suma todos los valores de la matriz**    \n",
        "Sumando todos los valores de la matriz de adyacencia obtendremos el **grado del grafo** (El grado de un grafo se obtiene con la suma del grado de todos sus vértices)  \n",
        "\n",
        "$$ \\sum gd(v)=2|E|$$\n",
        "De esta fórmula se desprende que el grado del grafo es 18, y sustituyendo en la fórmula:   \n",
        "\n",
        "$$ 18 =2|E| = 18/2 = 9 $$  \n",
        "-  El número de aristas del grafo es 9 \n",
        " \n",
        "\n",
        " **En Python:**\n",
        "\n"
      ],
      "metadata": {
        "id": "AO9xBde4PIIy"
      }
    },
    {
      "cell_type": "code",
      "source": [
        "\n",
        "from functools import reduce\n",
        "\n",
        "matrix =[[0,1,1,0,0,0],[1,0,1,1,0,0],[1,1,0,1,1,0],[0,1,1,0,1,1],[0,0,1,1,0,1],[0,0,0,1,1,0]]\n",
        "\n",
        "suma = sum(reduce(lambda x, y: x+y, matrix))\n",
        "print(suma)"
      ],
      "metadata": {
        "id": "FDHqzyWSTf6y"
      },
      "execution_count": null,
      "outputs": []
    },
    {
      "cell_type": "code",
      "source": [
        "def convert_to_adjacency(matrix):\n",
        "    start = 0\n",
        "    res = []\n",
        "    lst = []\n",
        "    n = len(matrix)\n",
        "    for i in range(n):\n",
        "        res.append(lst*n)\n",
        "    while start < n:\n",
        "        y = matrix[start]\n",
        "        for i in range(len(y)):\n",
        "            if y[i]==1:\n",
        "                res[start].append(i)\n",
        "        start +=1\n",
        "    return res\n",
        "\n",
        "matrix =[[0,1,1,1,0,1,1,0,0],[1,0,0,1,0,0,1,1,0],[1,0,0,1,0,0,0,0,0],[1,1,1,0,1,0,0,0,0],[0,0,0,1,0,1,0,0,1],[1,0,0,0,1,0,0,0,1],[1,1,0,0,0,0,0,0,0],[0,1,0,0,0,0,0,0,0],[0,0,0,0,1,1,0,0,0]]\n",
        "print(convert_to_adjacency(matrix))"
      ],
      "metadata": {
        "id": "DDM1R2YzO-c-"
      },
      "execution_count": null,
      "outputs": []
    },
    {
      "cell_type": "code",
      "source": [
        "def convert_to_matrix(graph):\n",
        "    matrix =[]\n",
        "    for i in range(len(graph)): \n",
        "        matrix.append([0]*len(graph))\n",
        "        for j in graph[i]:\n",
        "            matrix[i][j]=1\n",
        "    return matrix\n",
        "\n",
        "lst =[[1,2,3,5,6],[0,3,6,7],[0,3],[0,1,2,4],[3,5,8],[0,4,8],[0,1],[1],[4,5]]\n",
        "print(convert_to_matrix(lst))"
      ],
      "metadata": {
        "id": "TcrGI9GTQ-o2"
      },
      "execution_count": null,
      "outputs": []
    },
    {
      "cell_type": "markdown",
      "source": [
        "\n",
        "\n",
        "\n",
        "<img src=\"https://adanielehuelenlospies.weebly.com/uploads/1/4/0/7/140755812/este_orig.png\" width=\"500\"/>  \n",
        "\n"
      ],
      "metadata": {
        "id": "nRT5Hc-wATxI"
      }
    },
    {
      "cell_type": "markdown",
      "source": [
        "## Práctica 2.5\n",
        "**Árboles binarios**\n",
        "* Mira este vídeo: [¿Qué son los ÁRBOLES BINARIOS y por qué son tan geniales?](https://youtu.be/lMTaNbJAqvM)\n",
        "* ¿Qué son los **árboles binarios de búsqueda**? (en inglés: BST (Binary Search Tree))\n",
        "* Mira este vídeo: [Recorrido de Árboles Binarios](https://youtu.be/WCiwBrj8EQY)\n",
        "* Qué significa recorrer el árbol en:\n",
        " - preorden\n",
        " - inorden\n",
        " - postorden\n",
        "* Al BST del vídeo anterior añadele dos nodos de tu elección, de forma que continúe siendo un BST, dibujalo (poniendo en color azul claro los dos nodos nuevos) y da su recorrido en:\n",
        " - preorden\n",
        " - inorden (observa que en este caso los nodos deben quedar **ordenados** de menor a mayor)\n",
        " - postorden\n",
        "* ¿Por qué los BST son importantes en ciencias de la computación?\n",
        "* Pon un link a una página o vídeo que trate este tema en **Python**.\n",
        "* ¿Has probado el código en Python que comentas? ¿Funciona con el BST que has puesto como ejemplo?"
      ],
      "metadata": {
        "id": "KciKQEh-DIxH"
      }
    },
    {
      "cell_type": "markdown",
      "source": [
        "## Práctica 2.6\n",
        "* ¿Qué es un **camino hamiltoniano**?\n",
        "* Pon un ejemplo\n",
        "* Dibújalo\n",
        "* Resulevelo\n",
        "* ¿Qué utilidad tiene?\n",
        "* Muestra los enlaces a un par de vídeos que hablen de ello"
      ],
      "metadata": {
        "id": "Chf7cUkfaR9O"
      }
    },
    {
      "cell_type": "markdown",
      "source": [
        "## Práctica 2.7\n",
        "* Mira este vídeo:\n",
        " - [Un problema matemático de ciudades y carreteras](https://youtu.be/kwU1uIbylsM)\n",
        "* Dibuja el grafo y da tu solución"
      ],
      "metadata": {
        "id": "vJ9XxUVKcpys"
      }
    },
    {
      "cell_type": "markdown",
      "source": [
        "## Práctica 2.8\n",
        "* El problema de **los puentes de Königsberg**\n",
        "* Describe el problema\n",
        "* Muestra una imagen del grafo resultante\n",
        "* Quién fue *Euler* y qué hizo para resolver el problema"
      ],
      "metadata": {
        "id": "mWSmp60VaQRp"
      }
    },
    {
      "cell_type": "markdown",
      "source": [
        "## Práctica 2.9\n",
        "* ¿Qué son los **caminos eulerianos**?\n",
        "* ¿Qué son los **ciclos eulerianos**?\n",
        "* Da los enlaces a dos vídeos que hablen de ello\n",
        "* Dibuja un par de casos"
      ],
      "metadata": {
        "id": "_jPsX_8vhGkL"
      }
    },
    {
      "cell_type": "markdown",
      "source": [
        "## Práctica 2.10\n",
        "* Mira estos vídeos:\n",
        " - [¿Puedes dibujarlo sin despegar el lápiz?](https://youtu.be/IZ0-xFrlvag)\n",
        " - [USA esta LÓGICA cuando NO PUEDAS con un PROBLEMA](https://youtu.be/5Ncb7eU0LkQ)\n",
        "* Caso 1: dibuja un grafo en el que si sea posible y resuélvelo\n",
        "* Caso 2: dibuja un grafo en el que no sea posible y di el motivo"
      ],
      "metadata": {
        "id": "4wcsNU_-kQM-"
      }
    }
  ]
}