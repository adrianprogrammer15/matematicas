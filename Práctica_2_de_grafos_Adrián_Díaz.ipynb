{
  "nbformat": 4,
  "nbformat_minor": 0,
  "metadata": {
    "colab": {
      "provenance": [],
      "include_colab_link": true
    },
    "kernelspec": {
      "name": "python3",
      "display_name": "Python 3"
    },
    "language_info": {
      "name": "python"
    }
  },
  "cells": [
    {
      "cell_type": "markdown",
      "metadata": {
        "id": "view-in-github",
        "colab_type": "text"
      },
      "source": [
        "<a href=\"https://colab.research.google.com/github/adrianprogrammer15/math/blob/main/Pr%C3%A1ctica_de_grafos.ipynb\" target=\"_parent\"><img src=\"https://colab.research.google.com/assets/colab-badge.svg\" alt=\"Open In Colab\"/></a>"
      ]
    },
    {
      "cell_type": "markdown",
      "source": [
        "# Práctica 2. Grafos"
      ],
      "metadata": {
        "id": "s28_pETXts4V"
      }
    },
    {
      "cell_type": "markdown",
      "source": [
        "## Práctica 2.1\n",
        "**Algoritmo de Dijkstra**\n",
        "\n",
        "1. Mira estos vídeos:\n",
        " * [Algoritmo de DIJKSTRA ruta corta](https://youtu.be/6rl0ghgPfK0)\n",
        " * [Ruta mas corta en una red, algoritmo de Dijkstra](https://youtu.be/rh02c7v3EKY)\n",
        "2. ¿Qué utilidad tiene el algoritmo?\n",
        "3. Explique el algoritmo.\n",
        "4. De un ejemplo de un grafo resuelto con el algoritmo de Dijkstra.\n",
        "* Muestre la imagen del grafo con sus:\n",
        "  - nodos\n",
        "  - aristas (con flecha si son orientadas)\n",
        "  - pesos (distancias o costes)\n",
        "* Muestre nuevamente la imagen del grafo pero en esta ocasión con la solución."
      ],
      "metadata": {
        "id": "6Gr8mAWDxCdq"
      }
    },
    {
      "cell_type": "markdown",
      "source": [
        "### Solución 2.1  \n",
        "**2. ¿Qué utilidad tiene el algoritmo?**  \n",
        "Este algoritmo nos facilita la búsqueda del camino más cercano entre un nodo inicial, hasta cualquiera de los nodos que conforman el grafo.  \n",
        "Entre sus múltiples aplicaciones al mundo real, podríamos destacar la logística, algo muy útil para ahorrar tiempo y entregar paquetes por el camino más corto.  \n",
        "**3. Explique el algoritmo**  \n",
        " -El procedimiento del Algoritmo de Dijkstra es el siguiente:  \n",
        "Se irán determinando las distancias más cortas entre nodos adyacentes dentro de nuestro grafo. A partir de la construcción de nuestra matriz de distancias más cortas podremos determinar los caminos más cortos entre nodos según los pesos o distancias entre vértices.  \n",
        "**4. De un ejemplo de un grafo resuelto con el algoritmo de Dijkstra.**\n",
        "* Muestre la imagen del grafo con sus:\n",
        "  - nodos\n",
        "  - aristas (con flecha si son orientadas)\n",
        "  - pesos (distancias o costes)    \n",
        "\n",
        "  <img src=\"https://1.bp.blogspot.com/-9PqQ5RGbgFc/Xj_4DL9kzgI/AAAAAAAACBE/-iu7O2nXjJsn2Wz7GkwGELzlnK6MFdOIwCLcBGAsYHQ/s1600/grafoponderado.jpg\" width=\"450\"/>   \n",
        "  - El grafo que planteo es un mapa ferroviario que conecta las ciudades más importantes de España. Quiero hacer un viaje desde **Oviedo** hasta **Cádiz**, y me gustaría saber cúal es el trayecto más corto para llegar lo antes posible.  \n",
        "  * Muestre nuevamente la imagen del grafo pero en esta ocasión con la solución:\n",
        "  <img src=\"https://140755812-337623035608644402.preview.editmysite.com/uploads/1/4/0/7/140755812/captura-de-pantalla-20221102-163227-1_orig.jpg\" width=\"50000\"/>\n"
      ],
      "metadata": {
        "id": "rR_JLZQPdv3V"
      }
    },
    {
      "cell_type": "markdown",
      "source": [
        "## Práctica 2.2\n",
        "Vea el video:\n",
        "\n",
        "* [Camino mas corto Solver](https://youtu.be/LYeMWlTfOgA)\n",
        "\n",
        "Se pide:  \n",
        "1. Replique en un archivo de Excel el caso del vídeo, en la Hoja 1. En el método de resolución de Solver elija el método Simplex.\n",
        "2. En la Hoja 2, aplique esa metodología usando Solver a otro grafo de su invención. Dibuje el grafo, con sus nodos, flechas y pesos, y resuélvalo.\n",
        "3. Suba el archivo de Excel creado a la tarea del Aula Virtual."
      ],
      "metadata": {
        "id": "In4IULDcx1Az"
      }
    },
    {
      "cell_type": "markdown",
      "source": [
        "## Práctica 2.3\n",
        "1. Muestre el enlace a alguna página donde se de el algoritmo de Dijkstra programado en **Python**.  \n",
        "https://morioh.com/p/900e74c6a9c2\n",
        "2. Pruebe su código con algún grafo de ejemplo.  \n",
        "<img src=\"https://adanielehuelenlospies.weebly.com/uploads/1/4/0/7/140755812/noonoo_orig.png\" width=\"450\"/>"
      ],
      "metadata": {
        "id": "Dp_Eb4ORzqg4"
      }
    },
    {
      "cell_type": "code",
      "source": [
        "from heapq import *\n",
        "from collections import defaultdict\n",
        "\n",
        "def dijkstra(edges, strat_node, end_node):\n",
        "    g = defaultdict(list) \n",
        "    for start, end, weight in edges: \n",
        "        g[start].append((weight, end)) \n",
        "    q, visited = [(0, strat_node,())], set()\n",
        "    while q:        \n",
        "        (cost,v1,path) = heappop(q)\n",
        "        if v1 not in visited:\n",
        "            visited.add(v1)\n",
        "            path = (v1, path)            \n",
        "            if v1 == end_node:\n",
        "                return (cost, path)\n",
        "            for c, v2 in g.get(v1, ()):\n",
        "                if v2 not in visited:\n",
        "                    heappush(q, (cost+c, v2, path))\n",
        "        print (q)   \n",
        "    return float(\"inf\")\n",
        "\n",
        "if __name__ == \"__main__\":\n",
        "    \n",
        "    edges = [\n",
        "        (\"A\", \"B\", 7),\n",
        "        (\"A\", \"D\", 5),\n",
        "        (\"B\", \"C\", 8),\n",
        "        (\"B\", \"D\", 9),\n",
        "        (\"B\", \"E\", 7),\n",
        "        (\"C\", \"E\", 5),\n",
        "        (\"D\", \"E\", 7),\n",
        "        (\"D\", \"F\", 6),\n",
        "        (\"E\", \"F\", 8),\n",
        "        (\"E\", \"G\", 9),\n",
        "        (\"F\", \"G\", 11)\n",
        "    ]\n",
        "    \n",
        "    print (\"=== Dijkstra ===\")\n",
        "    print (\"A >> G:\")\n",
        "    print (dijkstra(edges, \"A\", \"G\"))"
      ],
      "metadata": {
        "id": "g16xxEz6bBwQ",
        "outputId": "31dea7b2-6b95-4076-b242-03705622b4b1",
        "colab": {
          "base_uri": "https://localhost:8080/"
        }
      },
      "execution_count": null,
      "outputs": [
        {
          "output_type": "stream",
          "name": "stdout",
          "text": [
            "=== Dijkstra ===\n",
            "A >> G:\n",
            "[(5, 'D', ('A', ())), (7, 'B', ('A', ()))]\n",
            "[(7, 'B', ('A', ())), (12, 'E', ('D', ('A', ()))), (11, 'F', ('D', ('A', ())))]\n",
            "[(11, 'F', ('D', ('A', ()))), (12, 'E', ('D', ('A', ()))), (15, 'C', ('B', ('A', ()))), (14, 'E', ('B', ('A', ())))]\n",
            "[(12, 'E', ('D', ('A', ()))), (14, 'E', ('B', ('A', ()))), (15, 'C', ('B', ('A', ()))), (22, 'G', ('F', ('D', ('A', ()))))]\n",
            "[(14, 'E', ('B', ('A', ()))), (21, 'G', ('E', ('D', ('A', ())))), (15, 'C', ('B', ('A', ()))), (22, 'G', ('F', ('D', ('A', ()))))]\n",
            "[(15, 'C', ('B', ('A', ()))), (21, 'G', ('E', ('D', ('A', ())))), (22, 'G', ('F', ('D', ('A', ()))))]\n",
            "[(21, 'G', ('E', ('D', ('A', ())))), (22, 'G', ('F', ('D', ('A', ()))))]\n",
            "(21, ('G', ('E', ('D', ('A', ())))))\n"
          ]
        }
      ]
    },
    {
      "cell_type": "markdown",
      "source": [
        "### Solución 2.4\n",
        "\n",
        "\n",
        "* Dibuja un grafo que tenga un mínimo de 6 nodos  \n",
        "\n",
        "<image src= \"https://adanielehuelenlospies.weebly.com/uploads/1/4/0/7/140755812/esto_orig.png\" width=\"650\" />    \n",
        "\n",
        "* Crea en **Python** su **matriz de adyacencia**\n"
      ],
      "metadata": {
        "id": "rkYAJajAEkW1"
      }
    },
    {
      "cell_type": "code",
      "source": [
        "def convert_to_matrix(graph):\n",
        "    matrix =[]\n",
        "    for i in range(len(graph)): \n",
        "        matrix.append([0]*len(graph))\n",
        "        for j in graph[i]:\n",
        "            matrix[i][j]=1\n",
        "    return matrix\n",
        "\n",
        "lst =[[1, 2], [0, 2, 3], [0, 1, 3, 4], [1, 2, 4, 5], [2, 3, 5], [3, 4]]\n",
        "print(convert_to_matrix(lst))"
      ],
      "metadata": {
        "id": "uXWN5gGwGe1a",
        "outputId": "11d8e0a3-0e0b-4587-87eb-bcffd40df979",
        "colab": {
          "base_uri": "https://localhost:8080/"
        }
      },
      "execution_count": null,
      "outputs": [
        {
          "output_type": "stream",
          "name": "stdout",
          "text": [
            "[[0, 1, 1, 0, 0, 0], [1, 0, 1, 1, 0, 0], [1, 1, 0, 1, 1, 0], [0, 1, 1, 0, 1, 1], [0, 0, 1, 1, 0, 1], [0, 0, 0, 1, 1, 0]]\n"
          ]
        }
      ]
    },
    {
      "cell_type": "markdown",
      "source": [
        "* Crea en Python su **lista de adyacencia**\n",
        "\n",
        "\n",
        "\n"
      ],
      "metadata": {
        "id": "GlsFiTBZGpvm"
      }
    },
    {
      "cell_type": "code",
      "source": [
        "def convert_to_adjacency(matrix):\n",
        "    start = 0\n",
        "    res = []\n",
        "    lst = []\n",
        "    n = len(matrix)\n",
        "    for i in range(n):\n",
        "        res.append(lst*n)\n",
        "    while start < n:\n",
        "        y = matrix[start]\n",
        "        for i in range(len(y)):\n",
        "            if y[i]==1:\n",
        "                res[start].append(i)\n",
        "        start +=1\n",
        "    return res \n",
        "matrix =[[0,1,1,0,0,0],[1,0,1,1,0,0],[1,1,0,1,1,0],[0,1,1,0,1,1],[0,0,1,1,0,1],[0,0,0,1,1,0]]\n",
        "print(convert_to_adjacency(matrix))"
      ],
      "metadata": {
        "id": "qNO8_BGCDdBq",
        "outputId": "93ca854b-3861-471b-aee6-33c6dc2a3624",
        "colab": {
          "base_uri": "https://localhost:8080/"
        }
      },
      "execution_count": null,
      "outputs": [
        {
          "output_type": "stream",
          "name": "stdout",
          "text": [
            "[[1, 2], [0, 2, 3], [0, 1, 3, 4], [1, 2, 4, 5], [2, 3, 5], [3, 4]]\n"
          ]
        }
      ]
    },
    {
      "cell_type": "markdown",
      "source": [
        "* **¿Son cero todos los elementos de la diagonal principal?**  \n",
        "Sí, se puede ver en la matriz de adyacencia que los la diagonal principal está compuesta por ceros.\n",
        " - **En qué caso serían todos cero y en qué caso no.**  \n",
        " En el caso de que la diagonal estuviera formada de ceros estaríamos ante una matriz simple, ya que un vértice A conecta con un vértice B, no consigo mismo. En el caso de que hubiese algún cero en esta diagonal, nos daríamos cuenta de que el grafo cuenta con bucles, el vértice A ahora sí conecta consigo mismo, apareciendo reflejado este valor en la matriz de adyacencia.\n",
        "\n"
      ],
      "metadata": {
        "id": "DbYEJ9LcG3ou"
      }
    },
    {
      "cell_type": "markdown",
      "source": [
        " **¿Es una matriz simétrica?**  \n",
        " Sí.  \n",
        "\n",
        "**- En qué caso sería simétrica y en qué caso no.**  \n",
        "Aplicando las propiedades de las matrices: Una matriz es simétrica, cuando el número de filas y de columnas coincide (matriz cuadrada), y la matriz original es igual a su traspuesta. Por el contrario, una matriz es antisimétrica, si su traspuesta es igual a la opuesta de la matriz original. $$A^T=-A$$  \n",
        "Es imposible que la matriz de adyacencia de un grafo no cumpla las condiciones que presentan las matrices simétricas, puesto que en ellas no se trabajan números negativos.\n",
        " "
      ],
      "metadata": {
        "id": "sJlIkuh9Jqom"
      }
    },
    {
      "cell_type": "markdown",
      "source": [
        "**Usando Python, suma todos los valores de la matriz**    \n",
        "Sumando todos los valores de la matriz de adyacencia obtendremos el **grado del grafo** (El grado de un grafo se obtiene con la suma del grado de todos sus vértices)  \n",
        "\n",
        "$$ \\sum gd(v)=2|E|$$\n",
        "De esta fórmula se desprende que el grado del grafo es 18, y sustituyendo en la fórmula:   \n",
        "\n",
        "$$ 18 =2|E| = 18/2 = 9 $$  \n",
        "-  El número de aristas del grafo es 9 \n",
        " \n",
        "\n",
        " **En Python:**\n",
        "\n"
      ],
      "metadata": {
        "id": "AO9xBde4PIIy"
      }
    },
    {
      "cell_type": "code",
      "source": [
        "\n",
        "from functools import reduce\n",
        "\n",
        "matrix =[[0,1,1,0,0,0],[1,0,1,1,0,0],[1,1,0,1,1,0],[0,1,1,0,1,1],[0,0,1,1,0,1],[0,0,0,1,1,0]]\n",
        "\n",
        "suma = sum(reduce(lambda x, y: x+y, matrix))\n",
        "print(f\"La suma de todos los elementos de la matriz es: \",(suma))"
      ],
      "metadata": {
        "id": "FDHqzyWSTf6y",
        "outputId": "afdfd7b7-0fc7-4fba-d797-81009994b9eb",
        "colab": {
          "base_uri": "https://localhost:8080/"
        }
      },
      "execution_count": null,
      "outputs": [
        {
          "output_type": "stream",
          "name": "stdout",
          "text": [
            "La suma de todos los elementos de la matriz es:  18\n"
          ]
        }
      ]
    },
    {
      "cell_type": "markdown",
      "source": [
        "Comprueba si funcionan bien o no los siguientes códigos:\n",
        " - El primero permite convertir una matriz de adyacencia en una lista de adyacencia."
      ],
      "metadata": {
        "id": "vVI7JNSHcqao"
      }
    },
    {
      "cell_type": "code",
      "source": [
        "def convert_to_adjacency(matrix):\n",
        "    start = 0\n",
        "    res = []\n",
        "    lst = []\n",
        "    n = len(matrix)\n",
        "    for i in range(n):\n",
        "        res.append(lst*n)\n",
        "    while start < n:\n",
        "        y = matrix[start]\n",
        "        for i in range(len(y)):\n",
        "            if y[i]==1:\n",
        "                res[start].append(i)\n",
        "        start +=1\n",
        "    return res\n",
        "\n",
        "matrix =[[0,1,1,1,0,1,1,0,0],[1,0,0,1,0,0,1,1,0],[1,0,0,1,0,0,0,0,0],[1,1,1,0,1,0,0,0,0],[0,0,0,1,0,1,0,0,1],[1,0,0,0,1,0,0,0,1],[1,1,0,0,0,0,0,0,0],[0,1,0,0,0,0,0,0,0],[0,0,0,0,1,1,0,0,0]]\n",
        "print(convert_to_adjacency(matrix))"
      ],
      "metadata": {
        "id": "DDM1R2YzO-c-",
        "outputId": "6112bf7e-b938-4fcf-8c04-81875346efd8",
        "colab": {
          "base_uri": "https://localhost:8080/"
        }
      },
      "execution_count": null,
      "outputs": [
        {
          "output_type": "stream",
          "name": "stdout",
          "text": [
            "[[1, 2, 3, 5, 6], [0, 3, 6, 7], [0, 3], [0, 1, 2, 4], [3, 5, 8], [0, 4, 8], [0, 1], [1], [4, 5]]\n"
          ]
        }
      ]
    },
    {
      "cell_type": "markdown",
      "source": [
        " -   El segundo permite convertir una lista de adyacencia en una matriz de adyacencia"
      ],
      "metadata": {
        "id": "Mb254k4sc0T6"
      }
    },
    {
      "cell_type": "code",
      "source": [
        "def convert_to_matrix(graph):\n",
        "    matrix =[]\n",
        "    for i in range(len(graph)): \n",
        "        matrix.append([0]*len(graph))\n",
        "        for j in graph[i]:\n",
        "            matrix[i][j]=1\n",
        "    return matrix\n",
        "\n",
        "lst =[[1,2,3,5,6],[0,3,6,7],[0,3],[0,1,2,4],[3,5,8],[0,4,8],[0,1],[1],[4,5]]\n",
        "print(convert_to_matrix(lst))"
      ],
      "metadata": {
        "id": "TcrGI9GTQ-o2",
        "colab": {
          "base_uri": "https://localhost:8080/"
        },
        "outputId": "e0a0cca3-e564-43c1-bbb7-c5625ac83c31"
      },
      "execution_count": null,
      "outputs": [
        {
          "output_type": "stream",
          "name": "stdout",
          "text": [
            "[[0, 1, 1, 1, 0, 1, 1, 0, 0], [1, 0, 0, 1, 0, 0, 1, 1, 0], [1, 0, 0, 1, 0, 0, 0, 0, 0], [1, 1, 1, 0, 1, 0, 0, 0, 0], [0, 0, 0, 1, 0, 1, 0, 0, 1], [1, 0, 0, 0, 1, 0, 0, 0, 1], [1, 1, 0, 0, 0, 0, 0, 0, 0], [0, 1, 0, 0, 0, 0, 0, 0, 0], [0, 0, 0, 0, 1, 1, 0, 0, 0]]\n"
          ]
        }
      ]
    },
    {
      "cell_type": "markdown",
      "source": [
        "* Dibuja el grafo del ejemplo que se usa en este código."
      ],
      "metadata": {
        "id": "FCSXzwfjc9j1"
      }
    },
    {
      "cell_type": "markdown",
      "source": [
        "\n",
        "\n",
        "\n",
        "<img src=\"https://adanielehuelenlospies.weebly.com/uploads/1/4/0/7/140755812/56667_orig.png\" width=\"500\"/>  \n",
        "\n"
      ],
      "metadata": {
        "id": "nRT5Hc-wATxI"
      }
    },
    {
      "cell_type": "markdown",
      "source": [
        "## Práctica 2.5\n",
        "**Árboles binarios**\n",
        "* Mira este vídeo: [¿Qué son los ÁRBOLES BINARIOS y por qué son tan geniales?]\n",
        "  (https://youtu.be/lMTaNbJAqvM)\n",
        "\n",
        "* ¿Qué son los **árboles binarios de búsqueda**? (en inglés: BST (Binary Search Tree))\n",
        "* Mira este vídeo: [Recorrido de Árboles Binarios](https://youtu.be/WCiwBrj8EQY)\n",
        "* Qué significa recorrer el árbol en:\n",
        " - preorden\n",
        " - inorden\n",
        " - postorden\n",
        "* Al BST del vídeo anterior añadele dos nodos de tu elección, de forma que continúe siendo un BST, dibujalo (poniendo en color azul claro los dos nodos nuevos) y da su recorrido en:\n",
        " - preorden\n",
        " - inorden (observa que en este caso los nodos deben quedar **ordenados** de menor a mayor)\n",
        " - postorden\n",
        "* ¿Por qué los BST son importantes en ciencias de la computación?\n",
        "* Pon un link a una página o vídeo que trate este tema en **Python**.\n",
        "* ¿Has probado el código en Python que comentas? ¿Funciona con el BST que has puesto como ejemplo?"
      ],
      "metadata": {
        "id": "KciKQEh-DIxH"
      }
    },
    {
      "cell_type": "markdown",
      "source": [
        "### Solución 2.5  \n",
        "* ¿Qué son los **árboles binarios de búsqueda**? (en inglés: BST (Binary Search Tree))  \n",
        "Los BST son estructuras organizadas de datos de orden 2. Estas estructuras siguen una serie de normas para ser capaces de buscar datos con mayor rapidez.   \n",
        " - Si el nodo tiene un subnodo menor , este irá situado a la izquiera del nodo.  \n",
        " - Si el nodo tiene un subnodo mayor , este irá situado a la derecha del nodo.  \n",
        "\n",
        "* Qué significa recorrer el árbol en:\n",
        " - preorden: Recorrer el árbol binario en pre-orden significa recorrer el árbol de la siguiente manera; **raíz**, **subárbol izquierdo** y **subárbol derecho**.\n",
        " - inorden: Recorrer el árbol binario en in-orden significa recorrer el árbol de la siguiente manera; **subárbol izquierdo**, **raíz** y **subárbol derecho**.\n",
        " - postorden: Recorrer el árbol binario en post-orden significa recorrer el árbol de la siguiente manera; **subárbol izquierdo**, **subárbol derecho** y **raíz**.   \n",
        "* Al BST del vídeo anterior añadele dos nodos de tu elección, de forma que continúe siendo un BST, dibujalo (poniendo en color azul claro los dos nodos nuevos) y da su recorrido en:  \n",
        "<img src=\"https://adanielehuelenlospies.weebly.com/uploads/1/4/0/7/140755812/binary_orig.png\" width=\"750\"/>  \n",
        "\n",
        " - preorden:  30, 15 , 11 , 2 , 0 , 1 , 5 , 7 , 6 , 13 , **12** , 21 , 17 , 16 , 19 , 26 , 29 , 35 , 31 , 34 , 40 , 50 , 42 , 45 , 60 , **61** , 75\n",
        " - inorden (observa que en este caso los nodos deben quedar **ordenados** de menor a mayor): 0 , 1 , 2 , 5 , 6 , 7 , 11 , **12** , 13 , 15 , 16 , 17 , 19 , 21 , 26 , 29 , 30 , 31 , 34 , 35 , 40 , 42 , 45 , 50 , 60 , **61** , 75.\n",
        " - postorden: 1 , 0 , 6 , 7 , 5 , 2 , **12** , 13 , 11 , 16 , 19 , 17 , 29 , 26 , 21 , 15 , 34 , 31 , 45 , 42 , 75 ,  **61** , 60 , 50 , 40 , 35 , 30\n",
        "* ¿Por qué los **BST** son importantes en ciencias de la computación?   \n",
        "\n",
        " Los BST tienen una gran importancia en el campo de la computación, ya que nos permite hacer búsquedas precisas en abundantes cantidades de información de manera más rápida que otros métodos. Por ejemplo, para hacer una búsqueda en una lista de 1 millón de elementos nos tomaría unas 20 comparaciones, haciendo esta tarea más rápida y sencilla de lo que parece a simple vista.  \n",
        "* Pon un link a una página o vídeo que trate este tema en **Python**.  \n",
        " * https://youtu.be/z5rmY-LV7ME   ( Ejemplo de Aplicación de Estructuras de Árboles Binarios en Árboles de decisión en la empresa en Python)   \n",
        " * https://youtu.be/ljJz5fqhe2I   ( Programación en Python de Árboles Binarios de Búsqueda)  \n",
        "* ¿Has probado el código en Python que comentas? ¿Funciona con el BST que has puesto como ejemplo?  \n",
        "Sí funciona.\n",
        "\n",
        "\n",
        "\n"
      ],
      "metadata": {
        "id": "gBiTCd6t5DZJ"
      }
    },
    {
      "cell_type": "markdown",
      "source": [
        "## Práctica 2.6\n",
        "* ¿Qué es un **camino hamiltoniano**?\n",
        "* Pon un ejemplo\n",
        "* Dibújalo\n",
        "* Resulevelo\n",
        "* ¿Qué utilidad tiene?\n",
        "* Muestra los enlaces a un par de vídeos que hablen de ello"
      ],
      "metadata": {
        "id": "Chf7cUkfaR9O"
      }
    },
    {
      "cell_type": "markdown",
      "source": [
        "### Solución 2.6  \n",
        "* ¿Qué es un **camino hamiltoniano**?  \n",
        "Un camino hamiltoniano, es un trayecto de aristas adyacentes al grafo que recorre todos lo vértices del mismo, tan sólo una vez.\n",
        "* **Pon un ejemplo**\n",
        "Un ejemplo de camino/ciclo hamiltoniano: Los nodos de una red de ordenadores que se intercambian información entre sí, podría ser un ejemplo de camino hamiltoniano. Para que el ordenador 1 pueda cifrar su red, este camino hamiltoniano será el camino que la información del ordenador 1 hará, para que esta vuelva encriptada a su origen.\n",
        "\n",
        "\n",
        "<img src=\"https://adanielehuelenlospies.weebly.com/uploads/1/4/0/7/140755812/oreo_orig.png\" width=\"670\"/>  \n",
        "-  **Resuélvelo**  \n",
        "Para comenzar a trazar nuestro camino hamiltoniano tenemos que tener en cuenta que no todos los grafos admiten caminos o ciclos hamiltonianos.Para saber si nuestro grafo admite este algoritmo utilizaremos la siguiente fórmula:  \n",
        "Si el vértice inicial es distinto al vértice final:  \n",
        "$$grado (u)+ grado(v)\\geq n-1$$  \n",
        "Los vértices que estudiaremos no han de tener conexión entre sí. Cogeremos el ordenador 1 y el 6, ya que no tienen conexión directa.  \n",
        "El grado del vértice( ordenador 1) = 3 y el del vértice(ordenador 6) = 4  \n",
        "\"n\" es igual al número total de vértices.\n",
        "Por lo que:  \n",
        "$$3+ 4\\geq 8-1$$  \n",
        "Se verifica que este grafo es hamiltoniano. Admite tanto un camino hamiltoniano como un ciclo.\n",
        " \n",
        "\n",
        "\n",
        "El primero es un camino hamiltoniano, por que el vértice inicial y el final no coinciden. Podría aplicarse a el envío de información que ha de pasar del ordenador 1 hasta el 8.  \n",
        "\n",
        "<img src=\"https://adanielehuelenlospies.weebly.com/uploads/1/4/0/7/140755812/hamil1_orig.png\" width=\"670\"/>   \n",
        "Este es un ciclo hamiltoniano, ya que el vértice inicial y el final sí coinciden. Podría ser un caso de cifrado blockchain, que a de pasar por varios nodos para cifrarse para finalmente volver al nodo inicial.\n",
        "<img src=\"https://adanielehuelenlospies.weebly.com/uploads/1/4/0/7/140755812/hamil-2_orig.png\" width=\"670\"/>   \n",
        "-  **¿Qué utilidad tiene?**  \n",
        "Como he mencionado antes, estos algoritmos pueden ser aplicados al mundo del blockchain o minería de bitcoin, ya que la información recorre una serie finita de nodos hasta volver al inicial(ciclo hamiltoniano). También podríamos aplicar este algoritmo a algo tan cotidiano como el cartero/a que recorre una serie de casas/nodos, sin repetir casa, hasta finalizar el recorrido (Camino hamiltoniano)  \n",
        "\n",
        "<img src=\"https://i.blogs.es/b5ce90/blockchain2/1366_2000.jpg\" width=\"450\"/>  \n",
        "* **Muestra los enlaces a un par de vídeos que hablen de ello**  \n",
        "https://youtu.be/lp-1rvtRYQg--- Teoría de Grafos aplicada a las Redes Sociales  \n",
        "https://youtu.be/mZMJJV6jDec\n"
      ],
      "metadata": {
        "id": "Jmr1LAc9jecg"
      }
    },
    {
      "cell_type": "markdown",
      "source": [
        "## Práctica 2.7\n",
        "* Mira este vídeo:\n",
        " - [Un problema matemático de ciudades y carreteras](https://youtu.be/kwU1uIbylsM)\n",
        "* Dibuja el grafo y da tu solución"
      ],
      "metadata": {
        "id": "vJ9XxUVKcpys"
      }
    },
    {
      "cell_type": "markdown",
      "source": [
        "### Solución 2.7   \n",
        "* Dibuja el grafo y da tu solución  \n",
        "\n",
        "<img src=\"https://adanielehuelenlospies.weebly.com/uploads/1/4/0/7/140755812/llo_orig.png\" width=\"450\"/>   \n",
        "El grafo propuesto en el vídeo **no tiene solución**, ya que es imposible encontrar un ciclo hamiltoniano que recorra todos los nodos y vuelva al inicial. Sin embargo, el grafo sí tiene solución para un camino hamiltoniano, es decir, que el vértice inicial y final no coincidan:  \n",
        "<img src=\"https://adanielehuelenlospies.weebly.com/uploads/1/4/0/7/140755812/diam_orig.png\" width=\"550\"/>   \n",
        "\n",
        "Solución 1: 1-2-6-3-7-8-5-4-10-11-9  \n",
        "\n",
        "<img src=\"https://adanielehuelenlospies.weebly.com/uploads/1/4/0/7/140755812/diam889_orig.png\" width=\"650\"/>    \n",
        "\n",
        "Solución 2: 1-8-5-11-9-2-6-3-10-4-7\n"
      ],
      "metadata": {
        "id": "ggH10kJ5Crpm"
      }
    },
    {
      "cell_type": "markdown",
      "source": [
        "## Práctica 2.8\n",
        "* El problema de **los puentes de Königsberg**       \n",
        "* Describe el problema\n",
        "* Muestra una imagen del grafo resultante\n",
        "* Quién fue *Euler* y qué hizo para resolver el problema"
      ],
      "metadata": {
        "id": "mWSmp60VaQRp"
      }
    },
    {
      "cell_type": "markdown",
      "source": [
        "### Solución 2.8\n",
        "\n",
        "* El problema de **los puentes de Königsberg**    \n",
        "* Describe el problema  \n",
        "El problema de los puentes de Königsberg se sitúa en la Prusia Oriental del siglo XVIII y fue resuelto por Euler.  \n",
        "El problema consiste en lo siguiente:  \n",
        "La ciudad de Königsberg constaba de 7 puentes que conectaban distintas zonas de la ciudad. Euler se planteó la siguinte pregunta:  \n",
        " - ¿Es posible planificar un paseo en el que se crucen todos los puentes sin repetir puente?  \n",
        "  \n",
        " <img src=\"http://2.bp.blogspot.com/_Sj_ZQzLQVBI/TJeHNAaYR-I/AAAAAAAAA90/cqZGEWfiwUE/s1600/Konigsberg_bridges.png\" width=\"350\"/>  \n",
        " Euler convirtió el plano de los puentes en un grafo con 4 vértices ( que representaban las distintas zonas de la ciudad) y 7 aristas (cada arista representa un puente). Para dar respuesta al problema, se debia poder dibujar el grafo resultante, sin levantar el lápiz del papel y sin repetir arista. Euler se dio cuenta de que esto era imposible.\n",
        "\n",
        "* Muestra una imagen del grafo resultante  \n",
        "<img src=\"http://2.bp.blogspot.com/_Sj_ZQzLQVBI/TJeP5hgamjI/AAAAAAAAA98/DcelwRNh0q8/s1600/Konigsburg_graph.jpg\" width=\"350\"/>   \n",
        "* Quién fue *Euler* y qué hizo para resolver el problema  \n",
        "Leonard Euler fue un genio en el campo de las matemáticas y la física en el siglo XVIII, siendo un matemático que combinaba su ingenio con una gran creatividad. Entre sus grandes invenciones se encuentran:  \n",
        " - La invención de la Teoría de grafos \n",
        " - La resolución del problema de Basilea \n",
        " - La fórmula de Euler en geometría   \n",
        " - La identidad de Euler entre otras muchas aportaciones.   \n",
        " Dejo un vídeo bastante interesante sobre Euler: https://youtu.be/nbumSy_KPz4\n",
        "\n",
        "Euler consiguió determinar una serie de reglas que son capaces de valorar si el grafo es euleriano o no.  \n",
        "\n",
        " -Si el punto de llegada y salida es el mismo, sí y solo sí debe tener un número \n",
        "par de aristas (uno para salir y otro para volver). Esto se conoce como ciclo euleriano.    \n",
        "\n",
        " -Si por el contrario el punto de salida y el de llegada son diferentes, deben tener obligatoriamente un número impar de aristas. Esto es lo que conocemos como camino euleriano."
      ],
      "metadata": {
        "id": "mdMy2ymPu596"
      }
    },
    {
      "cell_type": "markdown",
      "source": [
        "## Práctica 2.9\n",
        "* ¿Qué son los **caminos eulerianos**?\n",
        "* ¿Qué son los **ciclos eulerianos**?\n",
        "* Da los enlaces a dos vídeos que hablen de ello\n",
        "* Dibuja un par de casos"
      ],
      "metadata": {
        "id": "_jPsX_8vhGkL"
      }
    },
    {
      "cell_type": "markdown",
      "source": [
        "### Solución 2.9\n",
        "\n",
        "* ¿Qué son los **caminos eulerianos**?  \n",
        " * Un camino euleriano en un grafo (no orientado y conexo) es una trayectoria que recorre todas las aristas del grafo, recorriéndolas una vez.  \n",
        "*¿Cómo reconocemos un camino euleriano?  \n",
        " * Uno de los teoremas que propone Euler muestra que si el grado de todos los vértices del grafo es par, este grafo será euleriano. Recordando que el grafo o multigrafo tiene que ser conexo y no dirigido.  \n",
        "* Grafos **semi-eulerianos**  \n",
        " * También existen grafos semi-eulerianos, estos tienen que ser conexos y tienen que tener sólo dos vértices de grado impar.  \n",
        "* ¿Qué son los **ciclos eulerianos**?  \n",
        " * Un ciclo euleriano, sigue la misma dinámica que un camino euleriano, con la diferencia de que en este caso es un camino cerrado, empezando y acabando en el mismo vértice.  \n",
        "* Da los enlaces a dos vídeos que hablen de ello  \n",
        "https://youtu.be/3kU6671KCNI  \n",
        "https://youtu.be/GXxjd6zbe20    \n",
        "* Dibuja un par de casos  \n",
        " \n",
        "<img src=\"https://adanielehuelenlospies.weebly.com/uploads/1/4/0/7/140755812/euler_orig.png \" width=\"500\"/>   \n",
        "* Caso de camino euleriano:  5⇒1⇒2⇒3⇒4⇒2⇒5⇒4⇒1  \n",
        "\n",
        "<img src=\"https://adanielehuelenlospies.weebly.com/uploads/1/4/0/7/140755812/captura-de-pantalla-2022-11-04-091649_orig.png\" width=\"650\"/>   \n",
        "* En este caso nos encontramos ante un caso de ciclo euleriano: 1⇒2⇒4⇒3⇒2⇒5⇒4⇒1⇒6⇒3⇒1\n",
        "\n",
        "\n",
        "\n",
        "\n"
      ],
      "metadata": {
        "id": "_061duMdmDeB"
      }
    },
    {
      "cell_type": "markdown",
      "source": [
        "## Práctica 2.10\n",
        "* Mira estos vídeos:\n",
        " - [¿Puedes dibujarlo sin despegar el lápiz?](https://youtu.be/IZ0-xFrlvag)\n",
        " - [USA esta LÓGICA cuando NO PUEDAS con un PROBLEMA](https://youtu.be/5Ncb7eU0LkQ)\n",
        "* Caso 1: dibuja un grafo en el que si sea posible y resuélvelo  \n",
        "\n",
        "* Caso 2: dibuja un grafo en el que no sea posible y di el motivo  \n"
      ],
      "metadata": {
        "id": "4wcsNU_-kQM-"
      }
    },
    {
      "cell_type": "markdown",
      "source": [
        "### Solución 2.10\n",
        "\n",
        "* Caso 1: dibuja un grafo en el que si sea posible y resuélvelo  \n",
        "<img src=\"https://adanielehuelenlospies.weebly.com/uploads/1/4/0/7/140755812/6667_orig.png\" width=\"650\"/>  \n",
        "En este caso tenemos 6 vértices, 4 de ellos son pares y 2 impares, por lo que este grafo es euleriano.  El grafo tiene un camino euleriano: 4⇒3⇒1⇒2⇒4⇒5⇒3⇒6⇒2\n",
        "\n",
        "* Caso 2: dibuja un grafo en el que no sea posible y di el motivo  \n",
        "<img src=\"https://adanielehuelenlospies.weebly.com/uploads/1/4/0/7/140755812/55555_orig.png\" width=\"650\"/>    \n",
        "En este caso 6 de los 7 vértices son impares, por lo que este grafo no es euleriano y no se podrá resolver."
      ],
      "metadata": {
        "id": "4zMOZWytRyRa"
      }
    }
  ]
}
