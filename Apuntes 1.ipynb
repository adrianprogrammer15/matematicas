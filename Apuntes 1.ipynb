{
  "nbformat": 4,
  "nbformat_minor": 0,
  "metadata": {
    "colab": {
      "provenance": [],
      "authorship_tag": "ABX9TyO59Qc3QNEzixqsPE6dNEQv",
      "include_colab_link": true
    },
    "kernelspec": {
      "name": "python3",
      "display_name": "Python 3"
    },
    "language_info": {
      "name": "python"
    }
  },
  "cells": [
    {
      "cell_type": "markdown",
      "metadata": {
        "id": "view-in-github",
        "colab_type": "text"
      },
      "source": [
        "<a href=\"https://colab.research.google.com/github/adrianprogrammer15/matematicas/blob/main/Apuntes%201.ipynb\" target=\"_parent\"><img src=\"https://colab.research.google.com/assets/colab-badge.svg\" alt=\"Open In Colab\"/></a>"
      ]
    },
    {
      "cell_type": "markdown",
      "source": [
        "##APUNTES PHYTON MATEMÁTICAS\n"
      ],
      "metadata": {
        "id": "y5K9qvkiJAJE"
      }
    },
    {
      "cell_type": "markdown",
      "source": [
        "#Tipos de datos\n"
      ],
      "metadata": {
        "id": "qBR1IE55JShJ"
      }
    },
    {
      "cell_type": "code",
      "source": [
        "print(25)     # Este es un número entero de tipo int (integer)\n"
      ],
      "metadata": {
        "id": "vvghBMBOJg9t"
      },
      "execution_count": null,
      "outputs": []
    },
    {
      "cell_type": "code",
      "source": [
        "type(25)      # función que nos dice el tipo de dato"
      ],
      "metadata": {
        "id": "XSzOMlJrKs9U"
      },
      "execution_count": null,
      "outputs": []
    },
    {
      "cell_type": "code",
      "source": [
        "print(3.8)    # este es un número decimal de tipo float\n",
        "type(3.8)     # en español se llaman números de coma flotante"
      ],
      "metadata": {
        "id": "NLPIwkZOK_Gd"
      },
      "execution_count": null,
      "outputs": []
    },
    {
      "cell_type": "code",
      "source": [
        "print(\"Madrid\")   # esto es un string, una cadena alfanumérica\n",
        "print(\"Madrid 2036\")   # esto es otro string\n",
        "type(\"Madrid 2036\")"
      ],
      "metadata": {
        "id": "Rui3S4muJXbz"
      },
      "execution_count": null,
      "outputs": []
    },
    {
      "cell_type": "code",
      "source": [
        "5 >= 2  # operador lógico > , analiza la condición y da TRUE o FALSE"
      ],
      "metadata": {
        "id": "TgJjtYZSL3Z2"
      },
      "execution_count": null,
      "outputs": []
    },
    {
      "cell_type": "code",
      "source": [
        "type(True)    # Boolean"
      ],
      "metadata": {
        "id": "nuaIS_OsMQ4T"
      },
      "execution_count": null,
      "outputs": []
    },
    {
      "cell_type": "code",
      "source": [
        "2==3   # Operador lógico de igualdad"
      ],
      "metadata": {
        "colab": {
          "base_uri": "https://localhost:8080/"
        },
        "id": "GgXZG86cMrLT",
        "outputId": "ef6e504a-d168-48a9-92df-b1ffe6c691ce"
      },
      "execution_count": 15,
      "outputs": [
        {
          "output_type": "execute_result",
          "data": {
            "text/plain": [
              "False"
            ]
          },
          "metadata": {},
          "execution_count": 15
        }
      ]
    },
    {
      "cell_type": "code",
      "source": [
        "type(2==3)"
      ],
      "metadata": {
        "colab": {
          "base_uri": "https://localhost:8080/"
        },
        "id": "cQFbNgWnM3Q4",
        "outputId": "967500d4-ec7e-4ad8-feb0-d73acfe80e29"
      },
      "execution_count": 16,
      "outputs": [
        {
          "output_type": "execute_result",
          "data": {
            "text/plain": [
              "bool"
            ]
          },
          "metadata": {},
          "execution_count": 16
        }
      ]
    },
    {
      "cell_type": "markdown",
      "source": [
        "#Diferencia entre integer y string"
      ],
      "metadata": {
        "id": "G7YfYhkCNFQ0"
      }
    },
    {
      "cell_type": "code",
      "source": [
        "print(5 == \"5\")"
      ],
      "metadata": {
        "colab": {
          "base_uri": "https://localhost:8080/"
        },
        "id": "LEkFA4pzNPBo",
        "outputId": "673ee317-554c-4e90-b5a2-79ec05d741c7"
      },
      "execution_count": 17,
      "outputs": [
        {
          "output_type": "stream",
          "name": "stdout",
          "text": [
            "False\n"
          ]
        }
      ]
    },
    {
      "cell_type": "markdown",
      "source": [
        "#Operaciones algebraicas"
      ],
      "metadata": {
        "id": "V9aBEqz1NgND"
      }
    },
    {
      "cell_type": "code",
      "source": [
        "2+3  # Suma"
      ],
      "metadata": {
        "colab": {
          "base_uri": "https://localhost:8080/"
        },
        "id": "VWd-Hn8bNjV6",
        "outputId": "5f273b60-5bde-431f-e76b-a7113a2b11ca"
      },
      "execution_count": 18,
      "outputs": [
        {
          "output_type": "execute_result",
          "data": {
            "text/plain": [
              "5"
            ]
          },
          "metadata": {},
          "execution_count": 18
        }
      ]
    },
    {
      "cell_type": "code",
      "source": [
        "4-6  # Resta"
      ],
      "metadata": {
        "id": "MtYn_mLqNpA_"
      },
      "execution_count": null,
      "outputs": []
    },
    {
      "cell_type": "code",
      "source": [
        "print(9 * 3)   # Producto\n",
        "print(12/4)    # División\n"
      ],
      "metadata": {
        "id": "a-z8X4aHNtK8"
      },
      "execution_count": null,
      "outputs": []
    },
    {
      "cell_type": "code",
      "source": [
        "print(11//3)   # División entera (no es redondeo)\n",
        "print(11%3)    # Resto (Módulo)\n",
        "print(2**3)    # Potencia\n",
        "print(pow(2,3))  # Potencia"
      ],
      "metadata": {
        "colab": {
          "base_uri": "https://localhost:8080/"
        },
        "id": "ZdfGcsAYOSWQ",
        "outputId": "e6a4f658-bcbb-4c7d-cc51-b95e7f61087e"
      },
      "execution_count": 22,
      "outputs": [
        {
          "output_type": "stream",
          "name": "stdout",
          "text": [
            "3\n",
            "2\n",
            "8\n",
            "8\n"
          ]
        }
      ]
    },
    {
      "cell_type": "markdown",
      "source": [
        "#El operador punto\n",
        "Se aplican métodos a objetos  \n",
        "objeto.metodo()"
      ],
      "metadata": {
        "id": "6RsQt2ihO9Lh"
      }
    },
    {
      "cell_type": "code",
      "source": [
        "print(\"Hola mundo\".upper())   # Todo a mayúsculas\n",
        "print(\"Hola mundo\".lower())   # Todo a minúsculas\n"
      ],
      "metadata": {
        "colab": {
          "base_uri": "https://localhost:8080/"
        },
        "id": "3T-1NBxNPobB",
        "outputId": "8810a259-d9f0-4469-b9bc-0e8b78ebc609"
      },
      "execution_count": 24,
      "outputs": [
        {
          "output_type": "stream",
          "name": "stdout",
          "text": [
            "HOLA MUNDO\n",
            "hola mundo\n"
          ]
        }
      ]
    },
    {
      "cell_type": "code",
      "source": [
        "usuario = \" ana ruiz\"    # creamos una variable\n",
        "usuario.title()          # las primeras letras mayúsculas y las demás a minúsculas\n"
      ],
      "metadata": {
        "colab": {
          "base_uri": "https://localhost:8080/",
          "height": 35
        },
        "id": "8YbfgMj6QF0Q",
        "outputId": "b6931bfd-f446-4659-c510-a27e82e89365"
      },
      "execution_count": 29,
      "outputs": [
        {
          "output_type": "execute_result",
          "data": {
            "text/plain": [
              "' Ana Ruiz'"
            ],
            "application/vnd.google.colaboratory.intrinsic+json": {
              "type": "string"
            }
          },
          "metadata": {},
          "execution_count": 29
        }
      ]
    },
    {
      "cell_type": "code",
      "source": [
        "profesion = \"abogado laboralista\"\n",
        "profesion.count(\"a\")     # contar caracteres"
      ],
      "metadata": {
        "id": "9adV3zBbPORd"
      },
      "execution_count": null,
      "outputs": []
    },
    {
      "cell_type": "code",
      "source": [
        "cargo = \"encargado\"\n",
        "cargo.replace(\"o\", \"a\")  # reemplazar carateres"
      ],
      "metadata": {
        "colab": {
          "base_uri": "https://localhost:8080/",
          "height": 35
        },
        "id": "cMfxILBGO_rl",
        "outputId": "7680aaca-b14f-4f0a-d111-ccaf852df12b"
      },
      "execution_count": 28,
      "outputs": [
        {
          "output_type": "execute_result",
          "data": {
            "text/plain": [
              "'encargada'"
            ],
            "application/vnd.google.colaboratory.intrinsic+json": {
              "type": "string"
            }
          },
          "metadata": {},
          "execution_count": 28
        }
      ]
    },
    {
      "cell_type": "markdown",
      "source": [
        "##Variables"
      ],
      "metadata": {
        "id": "JIm4BPymthLi"
      }
    },
    {
      "cell_type": "code",
      "source": [
        "x = 5 \n",
        "print(x)\n",
        "print(2*x+5)\n",
        "2*(x+7)"
      ],
      "metadata": {
        "id": "ho_UA99gtj77"
      },
      "execution_count": null,
      "outputs": []
    },
    {
      "cell_type": "code",
      "source": [
        "nombre = \"Ana\"\n",
        "apellido = \"Ruiz\"\n",
        "nombre + apellido   # Concatenado dos strings"
      ],
      "metadata": {
        "colab": {
          "base_uri": "https://localhost:8080/",
          "height": 35
        },
        "id": "2VQgj2q5uGBV",
        "outputId": "8de64c51-ac9a-484d-bf0c-b0c5308308f0"
      },
      "execution_count": 31,
      "outputs": [
        {
          "output_type": "execute_result",
          "data": {
            "text/plain": [
              "'AnaRuiz'"
            ],
            "application/vnd.google.colaboratory.intrinsic+json": {
              "type": "string"
            }
          },
          "metadata": {},
          "execution_count": 31
        }
      ]
    },
    {
      "cell_type": "code",
      "source": [
        "nombre + \" \" + apellido"
      ],
      "metadata": {
        "colab": {
          "base_uri": "https://localhost:8080/",
          "height": 35
        },
        "id": "W_vdRznfuan1",
        "outputId": "39d2d50b-685e-452f-ed49-12ce70945ba6"
      },
      "execution_count": 32,
      "outputs": [
        {
          "output_type": "execute_result",
          "data": {
            "text/plain": [
              "'Ana Ruiz'"
            ],
            "application/vnd.google.colaboratory.intrinsic+json": {
              "type": "string"
            }
          },
          "metadata": {},
          "execution_count": 32
        }
      ]
    },
    {
      "cell_type": "code",
      "source": [
        "# El sistema f para dar formato\n",
        "edad= 25\n",
        "print(f\"Me llamo {nombre} {apellido} y mañana cumplié {edad+1} años\")"
      ],
      "metadata": {
        "colab": {
          "base_uri": "https://localhost:8080/"
        },
        "id": "c7hFcfWbuiVR",
        "outputId": "d0167791-1329-4139-eefe-8a459982634f"
      },
      "execution_count": 35,
      "outputs": [
        {
          "output_type": "stream",
          "name": "stdout",
          "text": [
            "Me llamo Ana Ruiz y mañana cumplié 26 años\n"
          ]
        }
      ]
    },
    {
      "cell_type": "markdown",
      "source": [
        "## Contadores"
      ],
      "metadata": {
        "id": "RmY-cm_CvKKB"
      }
    },
    {
      "cell_type": "code",
      "source": [
        "vidas = 3             # Comenzamos un juego con 3 vidas\n",
        "print(vidas)\n",
        "\n",
        "vidas = vidas + 1     # Si en el juego ganamos una vida podemos incrementar su valor en uno\n",
        "print(vidas)\n",
        "\n",
        "vidas += 1            # Esta es una froma abreviada de escribir lo mismo que antes . Incrementa las vida en una má\n",
        "print(vidas)\n",
        "\n",
        "vidas -= 1            # Perdemos una vida. Es una forma abreviada de escribir vidas = vidas-1\n",
        "print(vidas)\n"
      ],
      "metadata": {
        "colab": {
          "base_uri": "https://localhost:8080/"
        },
        "id": "PcZ8Tm8NvND_",
        "outputId": "1ddef5c5-25b0-4489-e39e-f4684c554f6b"
      },
      "execution_count": 39,
      "outputs": [
        {
          "output_type": "stream",
          "name": "stdout",
          "text": [
            "3\n",
            "4\n",
            "5\n",
            "4\n"
          ]
        }
      ]
    },
    {
      "cell_type": "markdown",
      "source": [
        "## Concatenar "
      ],
      "metadata": {
        "id": "xa-jHwLyxIAN"
      }
    },
    {
      "cell_type": "code",
      "source": [
        "a = \"Buenos \"\n",
        "b = \"Aires \"\n",
        "print(a + b + \"es la capital de Argentina\")"
      ],
      "metadata": {
        "colab": {
          "base_uri": "https://localhost:8080/"
        },
        "id": "9JvOW0XexK1g",
        "outputId": "a8a13c8d-8eff-4ef8-f6e9-0c4c15175627"
      },
      "execution_count": 44,
      "outputs": [
        {
          "output_type": "stream",
          "name": "stdout",
          "text": [
            "Buenos Aires es la capital de Argentina\n"
          ]
        }
      ]
    },
    {
      "cell_type": "code",
      "source": [
        "#print(\"Tengo\" + 15)      # ERROR\n",
        "print(\"Tengo \" + str(15))"
      ],
      "metadata": {
        "colab": {
          "base_uri": "https://localhost:8080/"
        },
        "id": "akiEk4RDx-lI",
        "outputId": "231e91ef-b74a-45d1-ba89-0df0725c61ea"
      },
      "execution_count": 47,
      "outputs": [
        {
          "output_type": "stream",
          "name": "stdout",
          "text": [
            "Tengo 15\n"
          ]
        }
      ]
    },
    {
      "cell_type": "markdown",
      "source": [
        "## Imprimir"
      ],
      "metadata": {
        "id": "LoCccuVGynin"
      }
    },
    {
      "cell_type": "code",
      "source": [
        "nombre = \"Ana\"\n",
        "edad = 14\n",
        "print(\"Hola,me llamo \" + nombre + \" y tengo \" + str(edad ) + \" años.\")\n",
        "print(f\"Hola,me llamo {nombre} y tengo {edad} años.\")"
      ],
      "metadata": {
        "colab": {
          "base_uri": "https://localhost:8080/"
        },
        "id": "war--HpGyqV1",
        "outputId": "78c30c55-0629-468d-b7b7-d6944186560f"
      },
      "execution_count": 57,
      "outputs": [
        {
          "output_type": "stream",
          "name": "stdout",
          "text": [
            "Hola,me llamo Ana y tengo 14 años.\n",
            "Hola,me llamo Ana y tengo 14 años.\n"
          ]
        }
      ]
    },
    {
      "cell_type": "markdown",
      "source": [
        "## Introduciendo datos con input\n",
        "Con la función `input` conseguimos capturar lo   que el usuario escriba por teclado\n",
        "Input siempre captura un **string**. \n",
        "\n",
        "Si introducimos un número 5 lo que captura es \"5\"\n",
        " \n",
        "\n"
      ],
      "metadata": {
        "id": "8j7c_1Ofz1bK"
      }
    },
    {
      "cell_type": "code",
      "source": [
        "nombre = input(\"¿Cómo te llamas? \")\n",
        "nota = float(input(\"Nota del examen: \"))\n",
        "print(f\"Buenos días {nombre}, en el examen tienes una nota de {nota}.\")\n"
      ],
      "metadata": {
        "id": "Az55DYdj0cOy"
      },
      "execution_count": null,
      "outputs": []
    }
  ]
}